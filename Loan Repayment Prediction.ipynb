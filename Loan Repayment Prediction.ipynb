{
 "cells": [
  {
   "cell_type": "markdown",
   "metadata": {},
   "source": [
    "# Loan Repayment Prediction"
   ]
  },
  {
   "cell_type": "code",
   "execution_count": 1,
   "metadata": {},
   "outputs": [],
   "source": [
    "import pandas as pd\n",
    "import numpy as np\n",
    "import matplotlib.pyplot as plt\n",
    "%matplotlib inline\n",
    "import seaborn as sns\n",
    "import warnings\n",
    "warnings.filterwarnings(\"ignore\")"
   ]
  },
  {
   "cell_type": "code",
   "execution_count": 2,
   "metadata": {},
   "outputs": [
    {
     "data": {
      "text/html": [
       "<div>\n",
       "<style scoped>\n",
       "    .dataframe tbody tr th:only-of-type {\n",
       "        vertical-align: middle;\n",
       "    }\n",
       "\n",
       "    .dataframe tbody tr th {\n",
       "        vertical-align: top;\n",
       "    }\n",
       "\n",
       "    .dataframe thead th {\n",
       "        text-align: right;\n",
       "    }\n",
       "</style>\n",
       "<table border=\"1\" class=\"dataframe\">\n",
       "  <thead>\n",
       "    <tr style=\"text-align: right;\">\n",
       "      <th></th>\n",
       "      <th>Loan ID</th>\n",
       "      <th>Customer ID</th>\n",
       "      <th>Loan Status</th>\n",
       "      <th>Current Loan Amount</th>\n",
       "      <th>Term</th>\n",
       "      <th>Credit Score</th>\n",
       "      <th>Years in current job</th>\n",
       "      <th>Home Ownership</th>\n",
       "      <th>Annual Income</th>\n",
       "      <th>Purpose</th>\n",
       "      <th>Monthly Debt</th>\n",
       "      <th>Years of Credit History</th>\n",
       "      <th>Months since last delinquent</th>\n",
       "      <th>Number of Open Accounts</th>\n",
       "      <th>Number of Credit Problems</th>\n",
       "      <th>Current Credit Balance</th>\n",
       "      <th>Maximum Open Credit</th>\n",
       "      <th>Bankruptcies</th>\n",
       "      <th>Tax Liens</th>\n",
       "    </tr>\n",
       "  </thead>\n",
       "  <tbody>\n",
       "    <tr>\n",
       "      <th>0</th>\n",
       "      <td>000025bb-5694-4cff-b17d-192b1a98ba44</td>\n",
       "      <td>5ebc8bb1-5eb9-4404-b11b-a6eebc401a19</td>\n",
       "      <td>Fully Paid</td>\n",
       "      <td>11520</td>\n",
       "      <td>Short Term</td>\n",
       "      <td>741.0</td>\n",
       "      <td>10+ years</td>\n",
       "      <td>Home Mortgage</td>\n",
       "      <td>33694.0</td>\n",
       "      <td>Debt Consolidation</td>\n",
       "      <td>$584.03</td>\n",
       "      <td>12.3</td>\n",
       "      <td>41.0</td>\n",
       "      <td>10</td>\n",
       "      <td>0</td>\n",
       "      <td>6760</td>\n",
       "      <td>16056</td>\n",
       "      <td>0.0</td>\n",
       "      <td>0.0</td>\n",
       "    </tr>\n",
       "    <tr>\n",
       "      <th>1</th>\n",
       "      <td>00002c49-3a29-4bd4-8f67-c8f8fbc1048c</td>\n",
       "      <td>927b388d-2e01-423f-a8dc-f7e42d668f46</td>\n",
       "      <td>Fully Paid</td>\n",
       "      <td>3441</td>\n",
       "      <td>Short Term</td>\n",
       "      <td>734.0</td>\n",
       "      <td>4 years</td>\n",
       "      <td>Home Mortgage</td>\n",
       "      <td>42269.0</td>\n",
       "      <td>other</td>\n",
       "      <td>$1,106.04</td>\n",
       "      <td>26.3</td>\n",
       "      <td>NaN</td>\n",
       "      <td>17</td>\n",
       "      <td>0</td>\n",
       "      <td>6262</td>\n",
       "      <td>19149</td>\n",
       "      <td>0.0</td>\n",
       "      <td>0.0</td>\n",
       "    </tr>\n",
       "    <tr>\n",
       "      <th>2</th>\n",
       "      <td>00002d89-27f3-409b-aa76-90834f359a65</td>\n",
       "      <td>defce609-c631-447d-aad6-1270615e89c4</td>\n",
       "      <td>Fully Paid</td>\n",
       "      <td>21029</td>\n",
       "      <td>Short Term</td>\n",
       "      <td>747.0</td>\n",
       "      <td>10+ years</td>\n",
       "      <td>Home Mortgage</td>\n",
       "      <td>90126.0</td>\n",
       "      <td>Debt Consolidation</td>\n",
       "      <td>$1,321.85</td>\n",
       "      <td>28.8</td>\n",
       "      <td>NaN</td>\n",
       "      <td>5</td>\n",
       "      <td>0</td>\n",
       "      <td>20967</td>\n",
       "      <td>28335</td>\n",
       "      <td>0.0</td>\n",
       "      <td>0.0</td>\n",
       "    </tr>\n",
       "    <tr>\n",
       "      <th>3</th>\n",
       "      <td>00005222-b4d8-45a4-ad8c-186057e24233</td>\n",
       "      <td>070bcecb-aae7-4485-a26a-e0403e7bb6c5</td>\n",
       "      <td>Fully Paid</td>\n",
       "      <td>18743</td>\n",
       "      <td>Short Term</td>\n",
       "      <td>747.0</td>\n",
       "      <td>10+ years</td>\n",
       "      <td>Own Home</td>\n",
       "      <td>38072.0</td>\n",
       "      <td>Debt Consolidation</td>\n",
       "      <td>$751.92</td>\n",
       "      <td>26.2</td>\n",
       "      <td>NaN</td>\n",
       "      <td>9</td>\n",
       "      <td>0</td>\n",
       "      <td>22529</td>\n",
       "      <td>43915</td>\n",
       "      <td>0.0</td>\n",
       "      <td>0.0</td>\n",
       "    </tr>\n",
       "    <tr>\n",
       "      <th>4</th>\n",
       "      <td>0000757f-a121-41ed-b17b-162e76647c1f</td>\n",
       "      <td>dde79588-12f0-4811-bab0-e2b07f633fcd</td>\n",
       "      <td>Fully Paid</td>\n",
       "      <td>11731</td>\n",
       "      <td>Short Term</td>\n",
       "      <td>746.0</td>\n",
       "      <td>4 years</td>\n",
       "      <td>Rent</td>\n",
       "      <td>50025.0</td>\n",
       "      <td>Debt Consolidation</td>\n",
       "      <td>$355.18</td>\n",
       "      <td>11.5</td>\n",
       "      <td>NaN</td>\n",
       "      <td>12</td>\n",
       "      <td>0</td>\n",
       "      <td>17391</td>\n",
       "      <td>37081</td>\n",
       "      <td>0.0</td>\n",
       "      <td>0.0</td>\n",
       "    </tr>\n",
       "  </tbody>\n",
       "</table>\n",
       "</div>"
      ],
      "text/plain": [
       "                                Loan ID                           Customer ID  \\\n",
       "0  000025bb-5694-4cff-b17d-192b1a98ba44  5ebc8bb1-5eb9-4404-b11b-a6eebc401a19   \n",
       "1  00002c49-3a29-4bd4-8f67-c8f8fbc1048c  927b388d-2e01-423f-a8dc-f7e42d668f46   \n",
       "2  00002d89-27f3-409b-aa76-90834f359a65  defce609-c631-447d-aad6-1270615e89c4   \n",
       "3  00005222-b4d8-45a4-ad8c-186057e24233  070bcecb-aae7-4485-a26a-e0403e7bb6c5   \n",
       "4  0000757f-a121-41ed-b17b-162e76647c1f  dde79588-12f0-4811-bab0-e2b07f633fcd   \n",
       "\n",
       "  Loan Status  Current Loan Amount        Term  Credit Score  \\\n",
       "0  Fully Paid                11520  Short Term         741.0   \n",
       "1  Fully Paid                 3441  Short Term         734.0   \n",
       "2  Fully Paid                21029  Short Term         747.0   \n",
       "3  Fully Paid                18743  Short Term         747.0   \n",
       "4  Fully Paid                11731  Short Term         746.0   \n",
       "\n",
       "  Years in current job Home Ownership  Annual Income             Purpose  \\\n",
       "0            10+ years  Home Mortgage        33694.0  Debt Consolidation   \n",
       "1              4 years  Home Mortgage        42269.0               other   \n",
       "2            10+ years  Home Mortgage        90126.0  Debt Consolidation   \n",
       "3            10+ years       Own Home        38072.0  Debt Consolidation   \n",
       "4              4 years           Rent        50025.0  Debt Consolidation   \n",
       "\n",
       "  Monthly Debt  Years of Credit History  Months since last delinquent  \\\n",
       "0      $584.03                     12.3                          41.0   \n",
       "1   $1,106.04                      26.3                           NaN   \n",
       "2   $1,321.85                      28.8                           NaN   \n",
       "3      $751.92                     26.2                           NaN   \n",
       "4      $355.18                     11.5                           NaN   \n",
       "\n",
       "   Number of Open Accounts  Number of Credit Problems  Current Credit Balance  \\\n",
       "0                       10                          0                    6760   \n",
       "1                       17                          0                    6262   \n",
       "2                        5                          0                   20967   \n",
       "3                        9                          0                   22529   \n",
       "4                       12                          0                   17391   \n",
       "\n",
       "  Maximum Open Credit  Bankruptcies  Tax Liens  \n",
       "0               16056           0.0        0.0  \n",
       "1               19149           0.0        0.0  \n",
       "2               28335           0.0        0.0  \n",
       "3               43915           0.0        0.0  \n",
       "4               37081           0.0        0.0  "
      ]
     },
     "execution_count": 2,
     "metadata": {},
     "output_type": "execute_result"
    }
   ],
   "source": [
    "df = pd.read_csv('LoansTrainingSet.csv')\n",
    "df.head()"
   ]
  },
  {
   "cell_type": "markdown",
   "metadata": {},
   "source": [
    "### EDA"
   ]
  },
  {
   "cell_type": "code",
   "execution_count": 3,
   "metadata": {},
   "outputs": [
    {
     "data": {
      "text/plain": [
       "(256984, 19)"
      ]
     },
     "execution_count": 3,
     "metadata": {},
     "output_type": "execute_result"
    }
   ],
   "source": [
    "df.shape"
   ]
  },
  {
   "cell_type": "code",
   "execution_count": 4,
   "metadata": {
    "scrolled": false
   },
   "outputs": [
    {
     "data": {
      "text/html": [
       "<div>\n",
       "<style scoped>\n",
       "    .dataframe tbody tr th:only-of-type {\n",
       "        vertical-align: middle;\n",
       "    }\n",
       "\n",
       "    .dataframe tbody tr th {\n",
       "        vertical-align: top;\n",
       "    }\n",
       "\n",
       "    .dataframe thead th {\n",
       "        text-align: right;\n",
       "    }\n",
       "</style>\n",
       "<table border=\"1\" class=\"dataframe\">\n",
       "  <thead>\n",
       "    <tr style=\"text-align: right;\">\n",
       "      <th></th>\n",
       "      <th>Loan ID</th>\n",
       "      <th>Customer ID</th>\n",
       "      <th>Loan Status</th>\n",
       "      <th>Current Loan Amount</th>\n",
       "      <th>Term</th>\n",
       "      <th>Credit Score</th>\n",
       "      <th>Years in current job</th>\n",
       "      <th>Home Ownership</th>\n",
       "      <th>Annual Income</th>\n",
       "      <th>Purpose</th>\n",
       "      <th>Monthly Debt</th>\n",
       "      <th>Years of Credit History</th>\n",
       "      <th>Months since last delinquent</th>\n",
       "      <th>Number of Open Accounts</th>\n",
       "      <th>Number of Credit Problems</th>\n",
       "      <th>Current Credit Balance</th>\n",
       "      <th>Maximum Open Credit</th>\n",
       "      <th>Bankruptcies</th>\n",
       "      <th>Tax Liens</th>\n",
       "    </tr>\n",
       "  </thead>\n",
       "  <tbody>\n",
       "    <tr>\n",
       "      <th>169737</th>\n",
       "      <td>a8c54045-0ae8-448a-9bee-560e413efd42</td>\n",
       "      <td>9bd008c4-724c-46aa-8837-75dcebde1d9c</td>\n",
       "      <td>Fully Paid</td>\n",
       "      <td>18131</td>\n",
       "      <td>Short Term</td>\n",
       "      <td>NaN</td>\n",
       "      <td>10+ years</td>\n",
       "      <td>Rent</td>\n",
       "      <td>NaN</td>\n",
       "      <td>Debt Consolidation</td>\n",
       "      <td>$849.07</td>\n",
       "      <td>11.5</td>\n",
       "      <td>33.0</td>\n",
       "      <td>11</td>\n",
       "      <td>1</td>\n",
       "      <td>9679</td>\n",
       "      <td>25472</td>\n",
       "      <td>1.0</td>\n",
       "      <td>0.0</td>\n",
       "    </tr>\n",
       "    <tr>\n",
       "      <th>158736</th>\n",
       "      <td>9dddb3c0-4bdc-4c03-8848-683e17201e5a</td>\n",
       "      <td>9155e651-553e-4b3d-84fe-949dfbdad139</td>\n",
       "      <td>Fully Paid</td>\n",
       "      <td>16093</td>\n",
       "      <td>Long Term</td>\n",
       "      <td>699.0</td>\n",
       "      <td>7 years</td>\n",
       "      <td>Rent</td>\n",
       "      <td>45261.0</td>\n",
       "      <td>Debt Consolidation</td>\n",
       "      <td>$1,297.48</td>\n",
       "      <td>16.2</td>\n",
       "      <td>NaN</td>\n",
       "      <td>8</td>\n",
       "      <td>0</td>\n",
       "      <td>21522</td>\n",
       "      <td>25744</td>\n",
       "      <td>0.0</td>\n",
       "      <td>0.0</td>\n",
       "    </tr>\n",
       "    <tr>\n",
       "      <th>242933</th>\n",
       "      <td>f1e28581-4b60-4e7c-9a47-a75adfa9f634</td>\n",
       "      <td>6358f082-8e92-49c7-bad0-76a94e14b2a8</td>\n",
       "      <td>Fully Paid</td>\n",
       "      <td>30360</td>\n",
       "      <td>Short Term</td>\n",
       "      <td>710.0</td>\n",
       "      <td>10+ years</td>\n",
       "      <td>Home Mortgage</td>\n",
       "      <td>91080.0</td>\n",
       "      <td>Home Improvements</td>\n",
       "      <td>$2,261.82</td>\n",
       "      <td>24.6</td>\n",
       "      <td>14.0</td>\n",
       "      <td>9</td>\n",
       "      <td>0</td>\n",
       "      <td>3922</td>\n",
       "      <td>6680</td>\n",
       "      <td>0.0</td>\n",
       "      <td>0.0</td>\n",
       "    </tr>\n",
       "    <tr>\n",
       "      <th>241692</th>\n",
       "      <td>f0a7e33c-a8d2-45fc-b7fe-fedc9408c2b0</td>\n",
       "      <td>2a788618-955d-4f22-90dd-ad8514df3fa8</td>\n",
       "      <td>Fully Paid</td>\n",
       "      <td>24164</td>\n",
       "      <td>Long Term</td>\n",
       "      <td>668.0</td>\n",
       "      <td>8 years</td>\n",
       "      <td>Home Mortgage</td>\n",
       "      <td>63720.0</td>\n",
       "      <td>Debt Consolidation</td>\n",
       "      <td>$264.97</td>\n",
       "      <td>22.0</td>\n",
       "      <td>26.0</td>\n",
       "      <td>6</td>\n",
       "      <td>1</td>\n",
       "      <td>3100</td>\n",
       "      <td>4116</td>\n",
       "      <td>0.0</td>\n",
       "      <td>1.0</td>\n",
       "    </tr>\n",
       "    <tr>\n",
       "      <th>108609</th>\n",
       "      <td>6bea9c19-42eb-4f35-adf8-7f1bbb84089a</td>\n",
       "      <td>b21cb62b-4dfe-483a-b27b-4794b5eac9d0</td>\n",
       "      <td>Fully Paid</td>\n",
       "      <td>19952</td>\n",
       "      <td>Short Term</td>\n",
       "      <td>NaN</td>\n",
       "      <td>5 years</td>\n",
       "      <td>Home Mortgage</td>\n",
       "      <td>NaN</td>\n",
       "      <td>Debt Consolidation</td>\n",
       "      <td>$1,626.51</td>\n",
       "      <td>15.6</td>\n",
       "      <td>58.0</td>\n",
       "      <td>11</td>\n",
       "      <td>0</td>\n",
       "      <td>9315</td>\n",
       "      <td>15761</td>\n",
       "      <td>0.0</td>\n",
       "      <td>0.0</td>\n",
       "    </tr>\n",
       "    <tr>\n",
       "      <th>139584</th>\n",
       "      <td>8ae141d4-5bad-42fa-8f95-291f2d06e5f1</td>\n",
       "      <td>99f42f82-05a2-4e5c-84ec-91e29600341b</td>\n",
       "      <td>Fully Paid</td>\n",
       "      <td>3157</td>\n",
       "      <td>Short Term</td>\n",
       "      <td>NaN</td>\n",
       "      <td>10+ years</td>\n",
       "      <td>Own Home</td>\n",
       "      <td>NaN</td>\n",
       "      <td>other</td>\n",
       "      <td>$96.57</td>\n",
       "      <td>15.5</td>\n",
       "      <td>NaN</td>\n",
       "      <td>3</td>\n",
       "      <td>1</td>\n",
       "      <td>2801</td>\n",
       "      <td>4931</td>\n",
       "      <td>1.0</td>\n",
       "      <td>0.0</td>\n",
       "    </tr>\n",
       "    <tr>\n",
       "      <th>211222</th>\n",
       "      <td>d220f642-35ad-4718-83fe-bd4b843fb7fe</td>\n",
       "      <td>2a2a633f-f0f1-4922-bf96-c589e51103f8</td>\n",
       "      <td>Fully Paid</td>\n",
       "      <td>7814</td>\n",
       "      <td>Short Term</td>\n",
       "      <td>748.0</td>\n",
       "      <td>10+ years</td>\n",
       "      <td>Rent</td>\n",
       "      <td>68376.0</td>\n",
       "      <td>Debt Consolidation</td>\n",
       "      <td>$626.78</td>\n",
       "      <td>20.1</td>\n",
       "      <td>NaN</td>\n",
       "      <td>9</td>\n",
       "      <td>0</td>\n",
       "      <td>7433</td>\n",
       "      <td>15716</td>\n",
       "      <td>0.0</td>\n",
       "      <td>0.0</td>\n",
       "    </tr>\n",
       "    <tr>\n",
       "      <th>59567</th>\n",
       "      <td>3b3e4731-6adb-4ec8-bf88-b8aa5180bebf</td>\n",
       "      <td>b7d76f16-004f-453e-9965-1347c954355c</td>\n",
       "      <td>Fully Paid</td>\n",
       "      <td>18234</td>\n",
       "      <td>Long Term</td>\n",
       "      <td>NaN</td>\n",
       "      <td>4 years</td>\n",
       "      <td>Rent</td>\n",
       "      <td>NaN</td>\n",
       "      <td>Debt Consolidation</td>\n",
       "      <td>$872.19</td>\n",
       "      <td>22.6</td>\n",
       "      <td>NaN</td>\n",
       "      <td>10</td>\n",
       "      <td>1</td>\n",
       "      <td>30428</td>\n",
       "      <td>62226</td>\n",
       "      <td>0.0</td>\n",
       "      <td>1.0</td>\n",
       "    </tr>\n",
       "    <tr>\n",
       "      <th>230339</th>\n",
       "      <td>e53dcafe-d9cd-4524-9c21-43a9ae1e65e9</td>\n",
       "      <td>d3ee5c39-387e-46b7-a230-d3a9e9628e10</td>\n",
       "      <td>Fully Paid</td>\n",
       "      <td>6950</td>\n",
       "      <td>Short Term</td>\n",
       "      <td>713.0</td>\n",
       "      <td>4 years</td>\n",
       "      <td>Rent</td>\n",
       "      <td>25815.0</td>\n",
       "      <td>Debt Consolidation</td>\n",
       "      <td>$219.43</td>\n",
       "      <td>12.3</td>\n",
       "      <td>NaN</td>\n",
       "      <td>5</td>\n",
       "      <td>0</td>\n",
       "      <td>6050</td>\n",
       "      <td>7245</td>\n",
       "      <td>0.0</td>\n",
       "      <td>0.0</td>\n",
       "    </tr>\n",
       "    <tr>\n",
       "      <th>59639</th>\n",
       "      <td>3b4ee35c-60d9-4e80-8162-af1254676fcd</td>\n",
       "      <td>cba18a45-100e-41a2-abe9-fee63395b7e5</td>\n",
       "      <td>Charged Off</td>\n",
       "      <td>22363</td>\n",
       "      <td>Long Term</td>\n",
       "      <td>653.0</td>\n",
       "      <td>10+ years</td>\n",
       "      <td>Rent</td>\n",
       "      <td>51116.0</td>\n",
       "      <td>Debt Consolidation</td>\n",
       "      <td>$1,324.76</td>\n",
       "      <td>13.9</td>\n",
       "      <td>6.0</td>\n",
       "      <td>14</td>\n",
       "      <td>0</td>\n",
       "      <td>18540</td>\n",
       "      <td>31478</td>\n",
       "      <td>0.0</td>\n",
       "      <td>0.0</td>\n",
       "    </tr>\n",
       "  </tbody>\n",
       "</table>\n",
       "</div>"
      ],
      "text/plain": [
       "                                     Loan ID  \\\n",
       "169737  a8c54045-0ae8-448a-9bee-560e413efd42   \n",
       "158736  9dddb3c0-4bdc-4c03-8848-683e17201e5a   \n",
       "242933  f1e28581-4b60-4e7c-9a47-a75adfa9f634   \n",
       "241692  f0a7e33c-a8d2-45fc-b7fe-fedc9408c2b0   \n",
       "108609  6bea9c19-42eb-4f35-adf8-7f1bbb84089a   \n",
       "139584  8ae141d4-5bad-42fa-8f95-291f2d06e5f1   \n",
       "211222  d220f642-35ad-4718-83fe-bd4b843fb7fe   \n",
       "59567   3b3e4731-6adb-4ec8-bf88-b8aa5180bebf   \n",
       "230339  e53dcafe-d9cd-4524-9c21-43a9ae1e65e9   \n",
       "59639   3b4ee35c-60d9-4e80-8162-af1254676fcd   \n",
       "\n",
       "                                 Customer ID  Loan Status  \\\n",
       "169737  9bd008c4-724c-46aa-8837-75dcebde1d9c   Fully Paid   \n",
       "158736  9155e651-553e-4b3d-84fe-949dfbdad139   Fully Paid   \n",
       "242933  6358f082-8e92-49c7-bad0-76a94e14b2a8   Fully Paid   \n",
       "241692  2a788618-955d-4f22-90dd-ad8514df3fa8   Fully Paid   \n",
       "108609  b21cb62b-4dfe-483a-b27b-4794b5eac9d0   Fully Paid   \n",
       "139584  99f42f82-05a2-4e5c-84ec-91e29600341b   Fully Paid   \n",
       "211222  2a2a633f-f0f1-4922-bf96-c589e51103f8   Fully Paid   \n",
       "59567   b7d76f16-004f-453e-9965-1347c954355c   Fully Paid   \n",
       "230339  d3ee5c39-387e-46b7-a230-d3a9e9628e10   Fully Paid   \n",
       "59639   cba18a45-100e-41a2-abe9-fee63395b7e5  Charged Off   \n",
       "\n",
       "        Current Loan Amount        Term  Credit Score Years in current job  \\\n",
       "169737                18131  Short Term           NaN            10+ years   \n",
       "158736                16093   Long Term         699.0              7 years   \n",
       "242933                30360  Short Term         710.0            10+ years   \n",
       "241692                24164   Long Term         668.0              8 years   \n",
       "108609                19952  Short Term           NaN              5 years   \n",
       "139584                 3157  Short Term           NaN            10+ years   \n",
       "211222                 7814  Short Term         748.0            10+ years   \n",
       "59567                 18234   Long Term           NaN              4 years   \n",
       "230339                 6950  Short Term         713.0              4 years   \n",
       "59639                 22363   Long Term         653.0            10+ years   \n",
       "\n",
       "       Home Ownership  Annual Income             Purpose Monthly Debt  \\\n",
       "169737           Rent            NaN  Debt Consolidation      $849.07   \n",
       "158736           Rent        45261.0  Debt Consolidation   $1,297.48    \n",
       "242933  Home Mortgage        91080.0   Home Improvements   $2,261.82    \n",
       "241692  Home Mortgage        63720.0  Debt Consolidation      $264.97   \n",
       "108609  Home Mortgage            NaN  Debt Consolidation   $1,626.51    \n",
       "139584       Own Home            NaN               other       $96.57   \n",
       "211222           Rent        68376.0  Debt Consolidation      $626.78   \n",
       "59567            Rent            NaN  Debt Consolidation      $872.19   \n",
       "230339           Rent        25815.0  Debt Consolidation      $219.43   \n",
       "59639            Rent        51116.0  Debt Consolidation   $1,324.76    \n",
       "\n",
       "        Years of Credit History  Months since last delinquent  \\\n",
       "169737                     11.5                          33.0   \n",
       "158736                     16.2                           NaN   \n",
       "242933                     24.6                          14.0   \n",
       "241692                     22.0                          26.0   \n",
       "108609                     15.6                          58.0   \n",
       "139584                     15.5                           NaN   \n",
       "211222                     20.1                           NaN   \n",
       "59567                      22.6                           NaN   \n",
       "230339                     12.3                           NaN   \n",
       "59639                      13.9                           6.0   \n",
       "\n",
       "        Number of Open Accounts  Number of Credit Problems  \\\n",
       "169737                       11                          1   \n",
       "158736                        8                          0   \n",
       "242933                        9                          0   \n",
       "241692                        6                          1   \n",
       "108609                       11                          0   \n",
       "139584                        3                          1   \n",
       "211222                        9                          0   \n",
       "59567                        10                          1   \n",
       "230339                        5                          0   \n",
       "59639                        14                          0   \n",
       "\n",
       "        Current Credit Balance Maximum Open Credit  Bankruptcies  Tax Liens  \n",
       "169737                    9679               25472           1.0        0.0  \n",
       "158736                   21522               25744           0.0        0.0  \n",
       "242933                    3922                6680           0.0        0.0  \n",
       "241692                    3100                4116           0.0        1.0  \n",
       "108609                    9315               15761           0.0        0.0  \n",
       "139584                    2801                4931           1.0        0.0  \n",
       "211222                    7433               15716           0.0        0.0  \n",
       "59567                    30428               62226           0.0        1.0  \n",
       "230339                    6050                7245           0.0        0.0  \n",
       "59639                    18540               31478           0.0        0.0  "
      ]
     },
     "execution_count": 4,
     "metadata": {},
     "output_type": "execute_result"
    }
   ],
   "source": [
    "df.sample(10)"
   ]
  },
  {
   "cell_type": "code",
   "execution_count": 5,
   "metadata": {
    "scrolled": false
   },
   "outputs": [
    {
     "name": "stdout",
     "output_type": "stream",
     "text": [
      "<class 'pandas.core.frame.DataFrame'>\n",
      "RangeIndex: 256984 entries, 0 to 256983\n",
      "Data columns (total 19 columns):\n",
      " #   Column                        Non-Null Count   Dtype  \n",
      "---  ------                        --------------   -----  \n",
      " 0   Loan ID                       256984 non-null  object \n",
      " 1   Customer ID                   256984 non-null  object \n",
      " 2   Loan Status                   256984 non-null  object \n",
      " 3   Current Loan Amount           256984 non-null  int64  \n",
      " 4   Term                          256984 non-null  object \n",
      " 5   Credit Score                  195308 non-null  float64\n",
      " 6   Years in current job          245508 non-null  object \n",
      " 7   Home Ownership                256984 non-null  object \n",
      " 8   Annual Income                 195308 non-null  float64\n",
      " 9   Purpose                       256984 non-null  object \n",
      " 10  Monthly Debt                  256984 non-null  object \n",
      " 11  Years of Credit History       256984 non-null  float64\n",
      " 12  Months since last delinquent  116601 non-null  float64\n",
      " 13  Number of Open Accounts       256984 non-null  int64  \n",
      " 14  Number of Credit Problems     256984 non-null  int64  \n",
      " 15  Current Credit Balance        256984 non-null  int64  \n",
      " 16  Maximum Open Credit           256984 non-null  object \n",
      " 17  Bankruptcies                  256455 non-null  float64\n",
      " 18  Tax Liens                     256961 non-null  float64\n",
      "dtypes: float64(6), int64(4), object(9)\n",
      "memory usage: 37.3+ MB\n"
     ]
    }
   ],
   "source": [
    "df.info()"
   ]
  },
  {
   "cell_type": "code",
   "execution_count": 6,
   "metadata": {},
   "outputs": [
    {
     "data": {
      "text/html": [
       "<div>\n",
       "<style scoped>\n",
       "    .dataframe tbody tr th:only-of-type {\n",
       "        vertical-align: middle;\n",
       "    }\n",
       "\n",
       "    .dataframe tbody tr th {\n",
       "        vertical-align: top;\n",
       "    }\n",
       "\n",
       "    .dataframe thead th {\n",
       "        text-align: right;\n",
       "    }\n",
       "</style>\n",
       "<table border=\"1\" class=\"dataframe\">\n",
       "  <thead>\n",
       "    <tr style=\"text-align: right;\">\n",
       "      <th></th>\n",
       "      <th>Current Loan Amount</th>\n",
       "      <th>Credit Score</th>\n",
       "      <th>Annual Income</th>\n",
       "      <th>Years of Credit History</th>\n",
       "      <th>Months since last delinquent</th>\n",
       "      <th>Number of Open Accounts</th>\n",
       "      <th>Number of Credit Problems</th>\n",
       "      <th>Current Credit Balance</th>\n",
       "      <th>Bankruptcies</th>\n",
       "      <th>Tax Liens</th>\n",
       "    </tr>\n",
       "  </thead>\n",
       "  <tbody>\n",
       "    <tr>\n",
       "      <th>count</th>\n",
       "      <td>2.569840e+05</td>\n",
       "      <td>195308.000000</td>\n",
       "      <td>1.953080e+05</td>\n",
       "      <td>256984.000000</td>\n",
       "      <td>116601.000000</td>\n",
       "      <td>256984.000000</td>\n",
       "      <td>256984.000000</td>\n",
       "      <td>2.569840e+05</td>\n",
       "      <td>256455.000000</td>\n",
       "      <td>256961.000000</td>\n",
       "    </tr>\n",
       "    <tr>\n",
       "      <th>mean</th>\n",
       "      <td>1.371331e+07</td>\n",
       "      <td>1251.116099</td>\n",
       "      <td>7.195272e+04</td>\n",
       "      <td>18.290195</td>\n",
       "      <td>34.881450</td>\n",
       "      <td>11.106267</td>\n",
       "      <td>0.156628</td>\n",
       "      <td>1.540656e+04</td>\n",
       "      <td>0.110316</td>\n",
       "      <td>0.027203</td>\n",
       "    </tr>\n",
       "    <tr>\n",
       "      <th>std</th>\n",
       "      <td>3.438131e+07</td>\n",
       "      <td>1762.016848</td>\n",
       "      <td>5.887757e+04</td>\n",
       "      <td>7.075747</td>\n",
       "      <td>21.854165</td>\n",
       "      <td>4.982982</td>\n",
       "      <td>0.460731</td>\n",
       "      <td>1.966506e+04</td>\n",
       "      <td>0.336229</td>\n",
       "      <td>0.245950</td>\n",
       "    </tr>\n",
       "    <tr>\n",
       "      <th>min</th>\n",
       "      <td>5.050000e+02</td>\n",
       "      <td>585.000000</td>\n",
       "      <td>0.000000e+00</td>\n",
       "      <td>3.400000</td>\n",
       "      <td>0.000000</td>\n",
       "      <td>0.000000</td>\n",
       "      <td>0.000000</td>\n",
       "      <td>0.000000e+00</td>\n",
       "      <td>0.000000</td>\n",
       "      <td>0.000000</td>\n",
       "    </tr>\n",
       "    <tr>\n",
       "      <th>25%</th>\n",
       "      <td>8.299000e+03</td>\n",
       "      <td>714.000000</td>\n",
       "      <td>4.432100e+04</td>\n",
       "      <td>13.500000</td>\n",
       "      <td>16.000000</td>\n",
       "      <td>8.000000</td>\n",
       "      <td>0.000000</td>\n",
       "      <td>5.974000e+03</td>\n",
       "      <td>0.000000</td>\n",
       "      <td>0.000000</td>\n",
       "    </tr>\n",
       "    <tr>\n",
       "      <th>50%</th>\n",
       "      <td>1.429800e+04</td>\n",
       "      <td>733.000000</td>\n",
       "      <td>6.124200e+04</td>\n",
       "      <td>17.000000</td>\n",
       "      <td>32.000000</td>\n",
       "      <td>10.000000</td>\n",
       "      <td>0.000000</td>\n",
       "      <td>1.107800e+04</td>\n",
       "      <td>0.000000</td>\n",
       "      <td>0.000000</td>\n",
       "    </tr>\n",
       "    <tr>\n",
       "      <th>75%</th>\n",
       "      <td>2.436700e+04</td>\n",
       "      <td>744.000000</td>\n",
       "      <td>8.646200e+04</td>\n",
       "      <td>21.700000</td>\n",
       "      <td>51.000000</td>\n",
       "      <td>14.000000</td>\n",
       "      <td>0.000000</td>\n",
       "      <td>1.931900e+04</td>\n",
       "      <td>0.000000</td>\n",
       "      <td>0.000000</td>\n",
       "    </tr>\n",
       "    <tr>\n",
       "      <th>max</th>\n",
       "      <td>1.000000e+08</td>\n",
       "      <td>7510.000000</td>\n",
       "      <td>8.713547e+06</td>\n",
       "      <td>70.500000</td>\n",
       "      <td>176.000000</td>\n",
       "      <td>76.000000</td>\n",
       "      <td>11.000000</td>\n",
       "      <td>1.731412e+06</td>\n",
       "      <td>7.000000</td>\n",
       "      <td>11.000000</td>\n",
       "    </tr>\n",
       "  </tbody>\n",
       "</table>\n",
       "</div>"
      ],
      "text/plain": [
       "       Current Loan Amount   Credit Score  Annual Income  \\\n",
       "count         2.569840e+05  195308.000000   1.953080e+05   \n",
       "mean          1.371331e+07    1251.116099   7.195272e+04   \n",
       "std           3.438131e+07    1762.016848   5.887757e+04   \n",
       "min           5.050000e+02     585.000000   0.000000e+00   \n",
       "25%           8.299000e+03     714.000000   4.432100e+04   \n",
       "50%           1.429800e+04     733.000000   6.124200e+04   \n",
       "75%           2.436700e+04     744.000000   8.646200e+04   \n",
       "max           1.000000e+08    7510.000000   8.713547e+06   \n",
       "\n",
       "       Years of Credit History  Months since last delinquent  \\\n",
       "count            256984.000000                 116601.000000   \n",
       "mean                 18.290195                     34.881450   \n",
       "std                   7.075747                     21.854165   \n",
       "min                   3.400000                      0.000000   \n",
       "25%                  13.500000                     16.000000   \n",
       "50%                  17.000000                     32.000000   \n",
       "75%                  21.700000                     51.000000   \n",
       "max                  70.500000                    176.000000   \n",
       "\n",
       "       Number of Open Accounts  Number of Credit Problems  \\\n",
       "count            256984.000000              256984.000000   \n",
       "mean                 11.106267                   0.156628   \n",
       "std                   4.982982                   0.460731   \n",
       "min                   0.000000                   0.000000   \n",
       "25%                   8.000000                   0.000000   \n",
       "50%                  10.000000                   0.000000   \n",
       "75%                  14.000000                   0.000000   \n",
       "max                  76.000000                  11.000000   \n",
       "\n",
       "       Current Credit Balance   Bankruptcies      Tax Liens  \n",
       "count            2.569840e+05  256455.000000  256961.000000  \n",
       "mean             1.540656e+04       0.110316       0.027203  \n",
       "std              1.966506e+04       0.336229       0.245950  \n",
       "min              0.000000e+00       0.000000       0.000000  \n",
       "25%              5.974000e+03       0.000000       0.000000  \n",
       "50%              1.107800e+04       0.000000       0.000000  \n",
       "75%              1.931900e+04       0.000000       0.000000  \n",
       "max              1.731412e+06       7.000000      11.000000  "
      ]
     },
     "execution_count": 6,
     "metadata": {},
     "output_type": "execute_result"
    }
   ],
   "source": [
    "df.describe()"
   ]
  },
  {
   "cell_type": "markdown",
   "metadata": {},
   "source": [
    "Credit score is supposed to range from 0 to 800. But max is 7510. ?????"
   ]
  },
  {
   "cell_type": "code",
   "execution_count": 7,
   "metadata": {},
   "outputs": [
    {
     "data": {
      "text/plain": [
       "Loan ID                              0\n",
       "Customer ID                          0\n",
       "Loan Status                          0\n",
       "Current Loan Amount                  0\n",
       "Term                                 0\n",
       "Credit Score                     61676\n",
       "Years in current job             11476\n",
       "Home Ownership                       0\n",
       "Annual Income                    61676\n",
       "Purpose                              0\n",
       "Monthly Debt                         0\n",
       "Years of Credit History              0\n",
       "Months since last delinquent    140383\n",
       "Number of Open Accounts              0\n",
       "Number of Credit Problems            0\n",
       "Current Credit Balance               0\n",
       "Maximum Open Credit                  0\n",
       "Bankruptcies                       529\n",
       "Tax Liens                           23\n",
       "dtype: int64"
      ]
     },
     "execution_count": 7,
     "metadata": {},
     "output_type": "execute_result"
    }
   ],
   "source": [
    "df.isnull().sum()"
   ]
  },
  {
   "cell_type": "markdown",
   "metadata": {},
   "source": [
    "I will clean missing data.\n",
    "And I will drop LoanID and CustomerID, since they don't provide usefull info."
   ]
  },
  {
   "cell_type": "code",
   "execution_count": 8,
   "metadata": {},
   "outputs": [
    {
     "data": {
      "text/html": [
       "<div>\n",
       "<style scoped>\n",
       "    .dataframe tbody tr th:only-of-type {\n",
       "        vertical-align: middle;\n",
       "    }\n",
       "\n",
       "    .dataframe tbody tr th {\n",
       "        vertical-align: top;\n",
       "    }\n",
       "\n",
       "    .dataframe thead th {\n",
       "        text-align: right;\n",
       "    }\n",
       "</style>\n",
       "<table border=\"1\" class=\"dataframe\">\n",
       "  <thead>\n",
       "    <tr style=\"text-align: right;\">\n",
       "      <th></th>\n",
       "      <th>Loan ID</th>\n",
       "      <th>Customer ID</th>\n",
       "      <th>Loan Status</th>\n",
       "      <th>Current Loan Amount</th>\n",
       "      <th>Term</th>\n",
       "      <th>Credit Score</th>\n",
       "      <th>Years in current job</th>\n",
       "      <th>Home Ownership</th>\n",
       "      <th>Annual Income</th>\n",
       "      <th>Purpose</th>\n",
       "      <th>Monthly Debt</th>\n",
       "      <th>Years of Credit History</th>\n",
       "      <th>Months since last delinquent</th>\n",
       "      <th>Number of Open Accounts</th>\n",
       "      <th>Number of Credit Problems</th>\n",
       "      <th>Current Credit Balance</th>\n",
       "      <th>Maximum Open Credit</th>\n",
       "      <th>Bankruptcies</th>\n",
       "      <th>Tax Liens</th>\n",
       "    </tr>\n",
       "  </thead>\n",
       "  <tbody>\n",
       "    <tr>\n",
       "      <th>7</th>\n",
       "      <td>0000afa6-8902-4f8f-b870-25a8fdad0aeb</td>\n",
       "      <td>e49c1a82-a0f7-45e8-9f46-2f75c43f9fbc</td>\n",
       "      <td>Charged Off</td>\n",
       "      <td>24613</td>\n",
       "      <td>Long Term</td>\n",
       "      <td>NaN</td>\n",
       "      <td>6 years</td>\n",
       "      <td>Rent</td>\n",
       "      <td>NaN</td>\n",
       "      <td>Business Loan</td>\n",
       "      <td>$542.29</td>\n",
       "      <td>17.6</td>\n",
       "      <td>73.0</td>\n",
       "      <td>7</td>\n",
       "      <td>0</td>\n",
       "      <td>14123</td>\n",
       "      <td>16954</td>\n",
       "      <td>0.0</td>\n",
       "      <td>0.0</td>\n",
       "    </tr>\n",
       "    <tr>\n",
       "      <th>8</th>\n",
       "      <td>00011dfc-31c1-4178-932a-fbeb3f341efb</td>\n",
       "      <td>ef6e098c-6c83-4752-8d00-ff793e476b8c</td>\n",
       "      <td>Fully Paid</td>\n",
       "      <td>10036</td>\n",
       "      <td>Short Term</td>\n",
       "      <td>NaN</td>\n",
       "      <td>5 years</td>\n",
       "      <td>Rent</td>\n",
       "      <td>NaN</td>\n",
       "      <td>Debt Consolidation</td>\n",
       "      <td>$386.36</td>\n",
       "      <td>17.7</td>\n",
       "      <td>NaN</td>\n",
       "      <td>7</td>\n",
       "      <td>0</td>\n",
       "      <td>11970</td>\n",
       "      <td>16579</td>\n",
       "      <td>0.0</td>\n",
       "      <td>0.0</td>\n",
       "    </tr>\n",
       "    <tr>\n",
       "      <th>12</th>\n",
       "      <td>00029f9f-0cc5-4d4e-aabc-ea4a7fe74e12</td>\n",
       "      <td>afbc2fa3-3bad-4d48-b691-829aed78bad5</td>\n",
       "      <td>Charged Off</td>\n",
       "      <td>17980</td>\n",
       "      <td>Short Term</td>\n",
       "      <td>NaN</td>\n",
       "      <td>&lt; 1 year</td>\n",
       "      <td>Own Home</td>\n",
       "      <td>NaN</td>\n",
       "      <td>Debt Consolidation</td>\n",
       "      <td>$597.50</td>\n",
       "      <td>9.9</td>\n",
       "      <td>43.0</td>\n",
       "      <td>7</td>\n",
       "      <td>0</td>\n",
       "      <td>6817</td>\n",
       "      <td>22800</td>\n",
       "      <td>0.0</td>\n",
       "      <td>0.0</td>\n",
       "    </tr>\n",
       "    <tr>\n",
       "      <th>20</th>\n",
       "      <td>00038a08-f058-4add-a8ed-497b91672a9e</td>\n",
       "      <td>727bb429-dfa1-41c4-a347-23230e23949f</td>\n",
       "      <td>Charged Off</td>\n",
       "      <td>16929</td>\n",
       "      <td>Long Term</td>\n",
       "      <td>NaN</td>\n",
       "      <td>3 years</td>\n",
       "      <td>Home Mortgage</td>\n",
       "      <td>NaN</td>\n",
       "      <td>Debt Consolidation</td>\n",
       "      <td>$745.70</td>\n",
       "      <td>14.9</td>\n",
       "      <td>NaN</td>\n",
       "      <td>10</td>\n",
       "      <td>0</td>\n",
       "      <td>28513</td>\n",
       "      <td>101110</td>\n",
       "      <td>0.0</td>\n",
       "      <td>0.0</td>\n",
       "    </tr>\n",
       "    <tr>\n",
       "      <th>22</th>\n",
       "      <td>0003b749-307f-4830-9fb4-9db7ed1b1c48</td>\n",
       "      <td>998dc43c-f9ce-466e-bdaa-7057b0bbb9cd</td>\n",
       "      <td>Fully Paid</td>\n",
       "      <td>7228</td>\n",
       "      <td>Short Term</td>\n",
       "      <td>NaN</td>\n",
       "      <td>3 years</td>\n",
       "      <td>Home Mortgage</td>\n",
       "      <td>NaN</td>\n",
       "      <td>Debt Consolidation</td>\n",
       "      <td>$439.56</td>\n",
       "      <td>17.8</td>\n",
       "      <td>NaN</td>\n",
       "      <td>13</td>\n",
       "      <td>1</td>\n",
       "      <td>8488</td>\n",
       "      <td>15866</td>\n",
       "      <td>1.0</td>\n",
       "      <td>0.0</td>\n",
       "    </tr>\n",
       "    <tr>\n",
       "      <th>...</th>\n",
       "      <td>...</td>\n",
       "      <td>...</td>\n",
       "      <td>...</td>\n",
       "      <td>...</td>\n",
       "      <td>...</td>\n",
       "      <td>...</td>\n",
       "      <td>...</td>\n",
       "      <td>...</td>\n",
       "      <td>...</td>\n",
       "      <td>...</td>\n",
       "      <td>...</td>\n",
       "      <td>...</td>\n",
       "      <td>...</td>\n",
       "      <td>...</td>\n",
       "      <td>...</td>\n",
       "      <td>...</td>\n",
       "      <td>...</td>\n",
       "      <td>...</td>\n",
       "      <td>...</td>\n",
       "    </tr>\n",
       "    <tr>\n",
       "      <th>256959</th>\n",
       "      <td>fff9b38f-9a27-49d0-8d49-6306f41529eb</td>\n",
       "      <td>f8579c88-cbda-48ce-a542-42fbefccd01d</td>\n",
       "      <td>Fully Paid</td>\n",
       "      <td>9753</td>\n",
       "      <td>Short Term</td>\n",
       "      <td>NaN</td>\n",
       "      <td>2 years</td>\n",
       "      <td>Own Home</td>\n",
       "      <td>NaN</td>\n",
       "      <td>Debt Consolidation</td>\n",
       "      <td>$469.35</td>\n",
       "      <td>23.2</td>\n",
       "      <td>80.0</td>\n",
       "      <td>7</td>\n",
       "      <td>1</td>\n",
       "      <td>5022</td>\n",
       "      <td>9248</td>\n",
       "      <td>1.0</td>\n",
       "      <td>0.0</td>\n",
       "    </tr>\n",
       "    <tr>\n",
       "      <th>256962</th>\n",
       "      <td>fffaa912-faa8-4bdf-8ff1-fd5884e51c66</td>\n",
       "      <td>d059bcea-3016-48d3-b7e0-c6e618e1f2c3</td>\n",
       "      <td>Fully Paid</td>\n",
       "      <td>6655</td>\n",
       "      <td>Short Term</td>\n",
       "      <td>NaN</td>\n",
       "      <td>10+ years</td>\n",
       "      <td>Rent</td>\n",
       "      <td>NaN</td>\n",
       "      <td>Debt Consolidation</td>\n",
       "      <td>$620.42</td>\n",
       "      <td>11.1</td>\n",
       "      <td>62.0</td>\n",
       "      <td>15</td>\n",
       "      <td>0</td>\n",
       "      <td>7114</td>\n",
       "      <td>18336</td>\n",
       "      <td>0.0</td>\n",
       "      <td>0.0</td>\n",
       "    </tr>\n",
       "    <tr>\n",
       "      <th>256965</th>\n",
       "      <td>fffc297d-74f0-4d42-ad90-cdea2bd9aac0</td>\n",
       "      <td>b8cae6f0-6c9b-4982-bef2-e3cdf48add59</td>\n",
       "      <td>Charged Off</td>\n",
       "      <td>11524</td>\n",
       "      <td>Short Term</td>\n",
       "      <td>NaN</td>\n",
       "      <td>6 years</td>\n",
       "      <td>Home Mortgage</td>\n",
       "      <td>NaN</td>\n",
       "      <td>Debt Consolidation</td>\n",
       "      <td>$790.35</td>\n",
       "      <td>21.4</td>\n",
       "      <td>NaN</td>\n",
       "      <td>23</td>\n",
       "      <td>0</td>\n",
       "      <td>12818</td>\n",
       "      <td>19160</td>\n",
       "      <td>0.0</td>\n",
       "      <td>0.0</td>\n",
       "    </tr>\n",
       "    <tr>\n",
       "      <th>256973</th>\n",
       "      <td>fffe36ec-97a6-460a-a236-640b7e0669f0</td>\n",
       "      <td>6520de3e-5961-47b1-bced-6a8132acb5cc</td>\n",
       "      <td>Charged Off</td>\n",
       "      <td>10575</td>\n",
       "      <td>Long Term</td>\n",
       "      <td>NaN</td>\n",
       "      <td>&lt; 1 year</td>\n",
       "      <td>Rent</td>\n",
       "      <td>NaN</td>\n",
       "      <td>Debt Consolidation</td>\n",
       "      <td>$707.08</td>\n",
       "      <td>14.8</td>\n",
       "      <td>NaN</td>\n",
       "      <td>18</td>\n",
       "      <td>0</td>\n",
       "      <td>20183</td>\n",
       "      <td>23496</td>\n",
       "      <td>0.0</td>\n",
       "      <td>0.0</td>\n",
       "    </tr>\n",
       "    <tr>\n",
       "      <th>256979</th>\n",
       "      <td>fffef5b7-be99-4666-ac70-2a397d2ee435</td>\n",
       "      <td>7211a8e3-cba4-4132-b939-222eed8a662c</td>\n",
       "      <td>Fully Paid</td>\n",
       "      <td>3911</td>\n",
       "      <td>Short Term</td>\n",
       "      <td>NaN</td>\n",
       "      <td>2 years</td>\n",
       "      <td>Rent</td>\n",
       "      <td>NaN</td>\n",
       "      <td>Debt Consolidation</td>\n",
       "      <td>$1,706.58</td>\n",
       "      <td>19.9</td>\n",
       "      <td>NaN</td>\n",
       "      <td>16</td>\n",
       "      <td>0</td>\n",
       "      <td>43992</td>\n",
       "      <td>44080</td>\n",
       "      <td>0.0</td>\n",
       "      <td>0.0</td>\n",
       "    </tr>\n",
       "  </tbody>\n",
       "</table>\n",
       "<p>61676 rows × 19 columns</p>\n",
       "</div>"
      ],
      "text/plain": [
       "                                     Loan ID  \\\n",
       "7       0000afa6-8902-4f8f-b870-25a8fdad0aeb   \n",
       "8       00011dfc-31c1-4178-932a-fbeb3f341efb   \n",
       "12      00029f9f-0cc5-4d4e-aabc-ea4a7fe74e12   \n",
       "20      00038a08-f058-4add-a8ed-497b91672a9e   \n",
       "22      0003b749-307f-4830-9fb4-9db7ed1b1c48   \n",
       "...                                      ...   \n",
       "256959  fff9b38f-9a27-49d0-8d49-6306f41529eb   \n",
       "256962  fffaa912-faa8-4bdf-8ff1-fd5884e51c66   \n",
       "256965  fffc297d-74f0-4d42-ad90-cdea2bd9aac0   \n",
       "256973  fffe36ec-97a6-460a-a236-640b7e0669f0   \n",
       "256979  fffef5b7-be99-4666-ac70-2a397d2ee435   \n",
       "\n",
       "                                 Customer ID  Loan Status  \\\n",
       "7       e49c1a82-a0f7-45e8-9f46-2f75c43f9fbc  Charged Off   \n",
       "8       ef6e098c-6c83-4752-8d00-ff793e476b8c   Fully Paid   \n",
       "12      afbc2fa3-3bad-4d48-b691-829aed78bad5  Charged Off   \n",
       "20      727bb429-dfa1-41c4-a347-23230e23949f  Charged Off   \n",
       "22      998dc43c-f9ce-466e-bdaa-7057b0bbb9cd   Fully Paid   \n",
       "...                                      ...          ...   \n",
       "256959  f8579c88-cbda-48ce-a542-42fbefccd01d   Fully Paid   \n",
       "256962  d059bcea-3016-48d3-b7e0-c6e618e1f2c3   Fully Paid   \n",
       "256965  b8cae6f0-6c9b-4982-bef2-e3cdf48add59  Charged Off   \n",
       "256973  6520de3e-5961-47b1-bced-6a8132acb5cc  Charged Off   \n",
       "256979  7211a8e3-cba4-4132-b939-222eed8a662c   Fully Paid   \n",
       "\n",
       "        Current Loan Amount        Term  Credit Score Years in current job  \\\n",
       "7                     24613   Long Term           NaN              6 years   \n",
       "8                     10036  Short Term           NaN              5 years   \n",
       "12                    17980  Short Term           NaN             < 1 year   \n",
       "20                    16929   Long Term           NaN              3 years   \n",
       "22                     7228  Short Term           NaN              3 years   \n",
       "...                     ...         ...           ...                  ...   \n",
       "256959                 9753  Short Term           NaN              2 years   \n",
       "256962                 6655  Short Term           NaN            10+ years   \n",
       "256965                11524  Short Term           NaN              6 years   \n",
       "256973                10575   Long Term           NaN             < 1 year   \n",
       "256979                 3911  Short Term           NaN              2 years   \n",
       "\n",
       "       Home Ownership  Annual Income             Purpose Monthly Debt  \\\n",
       "7                Rent            NaN       Business Loan      $542.29   \n",
       "8                Rent            NaN  Debt Consolidation      $386.36   \n",
       "12           Own Home            NaN  Debt Consolidation      $597.50   \n",
       "20      Home Mortgage            NaN  Debt Consolidation      $745.70   \n",
       "22      Home Mortgage            NaN  Debt Consolidation      $439.56   \n",
       "...               ...            ...                 ...          ...   \n",
       "256959       Own Home            NaN  Debt Consolidation      $469.35   \n",
       "256962           Rent            NaN  Debt Consolidation      $620.42   \n",
       "256965  Home Mortgage            NaN  Debt Consolidation      $790.35   \n",
       "256973           Rent            NaN  Debt Consolidation      $707.08   \n",
       "256979           Rent            NaN  Debt Consolidation   $1,706.58    \n",
       "\n",
       "        Years of Credit History  Months since last delinquent  \\\n",
       "7                          17.6                          73.0   \n",
       "8                          17.7                           NaN   \n",
       "12                          9.9                          43.0   \n",
       "20                         14.9                           NaN   \n",
       "22                         17.8                           NaN   \n",
       "...                         ...                           ...   \n",
       "256959                     23.2                          80.0   \n",
       "256962                     11.1                          62.0   \n",
       "256965                     21.4                           NaN   \n",
       "256973                     14.8                           NaN   \n",
       "256979                     19.9                           NaN   \n",
       "\n",
       "        Number of Open Accounts  Number of Credit Problems  \\\n",
       "7                             7                          0   \n",
       "8                             7                          0   \n",
       "12                            7                          0   \n",
       "20                           10                          0   \n",
       "22                           13                          1   \n",
       "...                         ...                        ...   \n",
       "256959                        7                          1   \n",
       "256962                       15                          0   \n",
       "256965                       23                          0   \n",
       "256973                       18                          0   \n",
       "256979                       16                          0   \n",
       "\n",
       "        Current Credit Balance Maximum Open Credit  Bankruptcies  Tax Liens  \n",
       "7                        14123               16954           0.0        0.0  \n",
       "8                        11970               16579           0.0        0.0  \n",
       "12                        6817               22800           0.0        0.0  \n",
       "20                       28513              101110           0.0        0.0  \n",
       "22                        8488               15866           1.0        0.0  \n",
       "...                        ...                 ...           ...        ...  \n",
       "256959                    5022                9248           1.0        0.0  \n",
       "256962                    7114               18336           0.0        0.0  \n",
       "256965                   12818               19160           0.0        0.0  \n",
       "256973                   20183               23496           0.0        0.0  \n",
       "256979                   43992               44080           0.0        0.0  \n",
       "\n",
       "[61676 rows x 19 columns]"
      ]
     },
     "execution_count": 8,
     "metadata": {},
     "output_type": "execute_result"
    }
   ],
   "source": [
    "df[df['Credit Score'].isnull()]"
   ]
  },
  {
   "cell_type": "markdown",
   "metadata": {},
   "source": [
    "The rows that hav NaN value in the Credit Score column also have NaN values in Annual Income. Let's drop them."
   ]
  },
  {
   "cell_type": "code",
   "execution_count": 9,
   "metadata": {},
   "outputs": [],
   "source": [
    "df = df[df['Credit Score'].notnull()]"
   ]
  },
  {
   "cell_type": "code",
   "execution_count": 10,
   "metadata": {
    "scrolled": false
   },
   "outputs": [
    {
     "name": "stdout",
     "output_type": "stream",
     "text": [
      "<class 'pandas.core.frame.DataFrame'>\n",
      "Int64Index: 195308 entries, 0 to 256983\n",
      "Data columns (total 19 columns):\n",
      " #   Column                        Non-Null Count   Dtype  \n",
      "---  ------                        --------------   -----  \n",
      " 0   Loan ID                       195308 non-null  object \n",
      " 1   Customer ID                   195308 non-null  object \n",
      " 2   Loan Status                   195308 non-null  object \n",
      " 3   Current Loan Amount           195308 non-null  int64  \n",
      " 4   Term                          195308 non-null  object \n",
      " 5   Credit Score                  195308 non-null  float64\n",
      " 6   Years in current job          186512 non-null  object \n",
      " 7   Home Ownership                195308 non-null  object \n",
      " 8   Annual Income                 195308 non-null  float64\n",
      " 9   Purpose                       195308 non-null  object \n",
      " 10  Monthly Debt                  195308 non-null  object \n",
      " 11  Years of Credit History       195308 non-null  float64\n",
      " 12  Months since last delinquent  88466 non-null   float64\n",
      " 13  Number of Open Accounts       195308 non-null  int64  \n",
      " 14  Number of Credit Problems     195308 non-null  int64  \n",
      " 15  Current Credit Balance        195308 non-null  int64  \n",
      " 16  Maximum Open Credit           195308 non-null  object \n",
      " 17  Bankruptcies                  194895 non-null  float64\n",
      " 18  Tax Liens                     195293 non-null  float64\n",
      "dtypes: float64(6), int64(4), object(9)\n",
      "memory usage: 29.8+ MB\n"
     ]
    }
   ],
   "source": [
    "df.info()"
   ]
  },
  {
   "cell_type": "code",
   "execution_count": 11,
   "metadata": {},
   "outputs": [
    {
     "data": {
      "text/plain": [
       "Loan ID                              0\n",
       "Customer ID                          0\n",
       "Loan Status                          0\n",
       "Current Loan Amount                  0\n",
       "Term                                 0\n",
       "Credit Score                         0\n",
       "Years in current job              8796\n",
       "Home Ownership                       0\n",
       "Annual Income                        0\n",
       "Purpose                              0\n",
       "Monthly Debt                         0\n",
       "Years of Credit History              0\n",
       "Months since last delinquent    106842\n",
       "Number of Open Accounts              0\n",
       "Number of Credit Problems            0\n",
       "Current Credit Balance               0\n",
       "Maximum Open Credit                  0\n",
       "Bankruptcies                       413\n",
       "Tax Liens                           15\n",
       "dtype: int64"
      ]
     },
     "execution_count": 11,
     "metadata": {},
     "output_type": "execute_result"
    }
   ],
   "source": [
    "df.isnull().sum()"
   ]
  },
  {
   "cell_type": "markdown",
   "metadata": {},
   "source": [
    "Credit Score and Annual Income have no longer any missing values.\n",
    "Let's fix Credit Score's range."
   ]
  },
  {
   "cell_type": "code",
   "execution_count": 12,
   "metadata": {},
   "outputs": [
    {
     "data": {
      "text/html": [
       "<div>\n",
       "<style scoped>\n",
       "    .dataframe tbody tr th:only-of-type {\n",
       "        vertical-align: middle;\n",
       "    }\n",
       "\n",
       "    .dataframe tbody tr th {\n",
       "        vertical-align: top;\n",
       "    }\n",
       "\n",
       "    .dataframe thead th {\n",
       "        text-align: right;\n",
       "    }\n",
       "</style>\n",
       "<table border=\"1\" class=\"dataframe\">\n",
       "  <thead>\n",
       "    <tr style=\"text-align: right;\">\n",
       "      <th></th>\n",
       "      <th>Credit Score</th>\n",
       "    </tr>\n",
       "  </thead>\n",
       "  <tbody>\n",
       "    <tr>\n",
       "      <th>6</th>\n",
       "      <td>6640.0</td>\n",
       "    </tr>\n",
       "    <tr>\n",
       "      <th>55</th>\n",
       "      <td>7320.0</td>\n",
       "    </tr>\n",
       "    <tr>\n",
       "      <th>71</th>\n",
       "      <td>7180.0</td>\n",
       "    </tr>\n",
       "    <tr>\n",
       "      <th>73</th>\n",
       "      <td>6670.0</td>\n",
       "    </tr>\n",
       "    <tr>\n",
       "      <th>79</th>\n",
       "      <td>7270.0</td>\n",
       "    </tr>\n",
       "    <tr>\n",
       "      <th>...</th>\n",
       "      <td>...</td>\n",
       "    </tr>\n",
       "    <tr>\n",
       "      <th>256946</th>\n",
       "      <td>7450.0</td>\n",
       "    </tr>\n",
       "    <tr>\n",
       "      <th>256948</th>\n",
       "      <td>7220.0</td>\n",
       "    </tr>\n",
       "    <tr>\n",
       "      <th>256952</th>\n",
       "      <td>7410.0</td>\n",
       "    </tr>\n",
       "    <tr>\n",
       "      <th>256977</th>\n",
       "      <td>7170.0</td>\n",
       "    </tr>\n",
       "    <tr>\n",
       "      <th>256981</th>\n",
       "      <td>7460.0</td>\n",
       "    </tr>\n",
       "  </tbody>\n",
       "</table>\n",
       "<p>16187 rows × 1 columns</p>\n",
       "</div>"
      ],
      "text/plain": [
       "        Credit Score\n",
       "6             6640.0\n",
       "55            7320.0\n",
       "71            7180.0\n",
       "73            6670.0\n",
       "79            7270.0\n",
       "...              ...\n",
       "256946        7450.0\n",
       "256948        7220.0\n",
       "256952        7410.0\n",
       "256977        7170.0\n",
       "256981        7460.0\n",
       "\n",
       "[16187 rows x 1 columns]"
      ]
     },
     "execution_count": 12,
     "metadata": {},
     "output_type": "execute_result"
    }
   ],
   "source": [
    "df[['Credit Score']][(df['Credit Score'] > 800)]"
   ]
  },
  {
   "cell_type": "markdown",
   "metadata": {},
   "source": [
    "Their last digit (0) was probably put there by mistake in a hurry. If I take 0 they are valid values. So I can divide them by 10."
   ]
  },
  {
   "cell_type": "code",
   "execution_count": 13,
   "metadata": {},
   "outputs": [],
   "source": [
    "df['Credit Score'] = df['Credit Score'].astype(np.int64)"
   ]
  },
  {
   "cell_type": "code",
   "execution_count": 14,
   "metadata": {},
   "outputs": [],
   "source": [
    "df['Credit Score'] = df['Credit Score'].map(lambda x: x//10 if x > 800 else x)"
   ]
  },
  {
   "cell_type": "code",
   "execution_count": 15,
   "metadata": {},
   "outputs": [
    {
     "data": {
      "text/plain": [
       "Credit Score    0\n",
       "dtype: int64"
      ]
     },
     "execution_count": 15,
     "metadata": {},
     "output_type": "execute_result"
    }
   ],
   "source": [
    "df[['Credit Score']][(df['Credit Score'] > 800)].count()"
   ]
  },
  {
   "cell_type": "markdown",
   "metadata": {},
   "source": [
    "Converting object types to numeric types"
   ]
  },
  {
   "cell_type": "code",
   "execution_count": 16,
   "metadata": {},
   "outputs": [
    {
     "data": {
      "text/plain": [
       "0     584.03\n",
       "1    1106.04\n",
       "2    1321.85\n",
       "3     751.92\n",
       "4     355.18\n",
       "Name: Monthly Debt, dtype: float64"
      ]
     },
     "execution_count": 16,
     "metadata": {},
     "output_type": "execute_result"
    }
   ],
   "source": [
    "df['Monthly Debt'] = df['Monthly Debt'].replace('[\\$, ]', '', regex=True).astype(float)\n",
    "df['Monthly Debt'].head()"
   ]
  },
  {
   "cell_type": "code",
   "execution_count": 17,
   "metadata": {},
   "outputs": [
    {
     "data": {
      "text/plain": [
       "Loan ID                         b798f46b-e27b-4823-af83-294b1ffc3490\n",
       "Customer ID                     f61890c5-e264-4b0f-a047-9cfa03b9d182\n",
       "Loan Status                                              Charged Off\n",
       "Current Loan Amount                                             1470\n",
       "Term                                                      Short Term\n",
       "Credit Score                                                     725\n",
       "Years in current job                                         2 years\n",
       "Home Ownership                                                  Rent\n",
       "Annual Income                                                  39200\n",
       "Purpose                                           Debt Consolidation\n",
       "Monthly Debt                                                  506.34\n",
       "Years of Credit History                                         15.3\n",
       "Months since last delinquent                                      26\n",
       "Number of Open Accounts                                            3\n",
       "Number of Credit Problems                                          0\n",
       "Current Credit Balance                                             0\n",
       "Maximum Open Credit                                          #VALUE!\n",
       "Bankruptcies                                                       0\n",
       "Tax Liens                                                          0\n",
       "Name: 184663, dtype: object"
      ]
     },
     "execution_count": 17,
     "metadata": {},
     "output_type": "execute_result"
    }
   ],
   "source": [
    "df.iloc[140373,:]"
   ]
  },
  {
   "cell_type": "code",
   "execution_count": 18,
   "metadata": {},
   "outputs": [],
   "source": [
    "df = df[df['Maximum Open Credit'] != '#VALUE!']"
   ]
  },
  {
   "cell_type": "code",
   "execution_count": 19,
   "metadata": {},
   "outputs": [
    {
     "data": {
      "text/plain": [
       "0    16056\n",
       "1    19149\n",
       "2    28335\n",
       "3    43915\n",
       "4    37081\n",
       "Name: Maximum Open Credit, dtype: int64"
      ]
     },
     "execution_count": 19,
     "metadata": {},
     "output_type": "execute_result"
    }
   ],
   "source": [
    "df['Maximum Open Credit'] = pd.to_numeric(df['Maximum Open Credit'])\n",
    "df['Maximum Open Credit'].head()"
   ]
  },
  {
   "cell_type": "code",
   "execution_count": 20,
   "metadata": {},
   "outputs": [
    {
     "name": "stdout",
     "output_type": "stream",
     "text": [
      "<class 'pandas.core.frame.DataFrame'>\n",
      "Int64Index: 195305 entries, 0 to 256983\n",
      "Data columns (total 19 columns):\n",
      " #   Column                        Non-Null Count   Dtype  \n",
      "---  ------                        --------------   -----  \n",
      " 0   Loan ID                       195305 non-null  object \n",
      " 1   Customer ID                   195305 non-null  object \n",
      " 2   Loan Status                   195305 non-null  object \n",
      " 3   Current Loan Amount           195305 non-null  int64  \n",
      " 4   Term                          195305 non-null  object \n",
      " 5   Credit Score                  195305 non-null  int64  \n",
      " 6   Years in current job          186509 non-null  object \n",
      " 7   Home Ownership                195305 non-null  object \n",
      " 8   Annual Income                 195305 non-null  float64\n",
      " 9   Purpose                       195305 non-null  object \n",
      " 10  Monthly Debt                  195305 non-null  float64\n",
      " 11  Years of Credit History       195305 non-null  float64\n",
      " 12  Months since last delinquent  88465 non-null   float64\n",
      " 13  Number of Open Accounts       195305 non-null  int64  \n",
      " 14  Number of Credit Problems     195305 non-null  int64  \n",
      " 15  Current Credit Balance        195305 non-null  int64  \n",
      " 16  Maximum Open Credit           195305 non-null  int64  \n",
      " 17  Bankruptcies                  194892 non-null  float64\n",
      " 18  Tax Liens                     195290 non-null  float64\n",
      "dtypes: float64(6), int64(6), object(7)\n",
      "memory usage: 29.8+ MB\n"
     ]
    }
   ],
   "source": [
    "df.info()"
   ]
  },
  {
   "cell_type": "markdown",
   "metadata": {},
   "source": [
    "#### Categorical Variables"
   ]
  },
  {
   "cell_type": "code",
   "execution_count": 21,
   "metadata": {},
   "outputs": [
    {
     "data": {
      "text/plain": [
       "array(['Fully Paid', 'Charged Off'], dtype=object)"
      ]
     },
     "execution_count": 21,
     "metadata": {},
     "output_type": "execute_result"
    }
   ],
   "source": [
    "df['Loan Status'].unique()"
   ]
  },
  {
   "cell_type": "code",
   "execution_count": 22,
   "metadata": {},
   "outputs": [
    {
     "data": {
      "text/plain": [
       "array(['Short Term', 'Long Term'], dtype=object)"
      ]
     },
     "execution_count": 22,
     "metadata": {},
     "output_type": "execute_result"
    }
   ],
   "source": [
    "df['Term'].unique()"
   ]
  },
  {
   "cell_type": "code",
   "execution_count": 23,
   "metadata": {},
   "outputs": [
    {
     "data": {
      "text/plain": [
       "array(['10+ years', '4 years', '6 years', nan, '3 years', '2 years',\n",
       "       '< 1 year', '5 years', '1 year', '7 years', '9 years', '8 years'],\n",
       "      dtype=object)"
      ]
     },
     "execution_count": 23,
     "metadata": {},
     "output_type": "execute_result"
    }
   ],
   "source": [
    "df['Years in current job'].unique()"
   ]
  },
  {
   "cell_type": "code",
   "execution_count": 24,
   "metadata": {},
   "outputs": [
    {
     "data": {
      "text/plain": [
       "array(['Home Mortgage', 'Own Home', 'Rent', 'HaveMortgage'], dtype=object)"
      ]
     },
     "execution_count": 24,
     "metadata": {},
     "output_type": "execute_result"
    }
   ],
   "source": [
    "df['Home Ownership'].unique()"
   ]
  },
  {
   "cell_type": "code",
   "execution_count": 25,
   "metadata": {},
   "outputs": [
    {
     "data": {
      "text/plain": [
       "array(['Debt Consolidation', 'other', 'Business Loan',\n",
       "       'Home Improvements', 'Buy House', 'Other', 'Medical Bills',\n",
       "       'Buy a Car', 'Take a Trip', 'Educational Expenses'], dtype=object)"
      ]
     },
     "execution_count": 25,
     "metadata": {},
     "output_type": "execute_result"
    }
   ],
   "source": [
    "df['Purpose'].unique()"
   ]
  },
  {
   "cell_type": "markdown",
   "metadata": {},
   "source": [
    "There are categories that has the same meaning in Purpose and Home Ownership columns."
   ]
  },
  {
   "cell_type": "code",
   "execution_count": 26,
   "metadata": {},
   "outputs": [],
   "source": [
    "df['Home Ownership'] = df['Home Ownership'].map(lambda x: 'Home Mortgage' if x == 'HaveMortgage' else x)"
   ]
  },
  {
   "cell_type": "code",
   "execution_count": 27,
   "metadata": {},
   "outputs": [],
   "source": [
    "df['Purpose'] = df['Purpose'].map(lambda x: 'Other' if x == 'other' else x)"
   ]
  },
  {
   "cell_type": "code",
   "execution_count": 28,
   "metadata": {},
   "outputs": [
    {
     "data": {
      "text/plain": [
       "array(['Home Mortgage', 'Own Home', 'Rent'], dtype=object)"
      ]
     },
     "execution_count": 28,
     "metadata": {},
     "output_type": "execute_result"
    }
   ],
   "source": [
    "df['Home Ownership'].unique()"
   ]
  },
  {
   "cell_type": "code",
   "execution_count": 29,
   "metadata": {},
   "outputs": [
    {
     "data": {
      "text/plain": [
       "array(['Debt Consolidation', 'Other', 'Business Loan',\n",
       "       'Home Improvements', 'Buy House', 'Medical Bills', 'Buy a Car',\n",
       "       'Take a Trip', 'Educational Expenses'], dtype=object)"
      ]
     },
     "execution_count": 29,
     "metadata": {},
     "output_type": "execute_result"
    }
   ],
   "source": [
    "df['Purpose'].unique()"
   ]
  },
  {
   "cell_type": "markdown",
   "metadata": {},
   "source": [
    "#### Missing Data"
   ]
  },
  {
   "cell_type": "code",
   "execution_count": 30,
   "metadata": {},
   "outputs": [
    {
     "name": "stdout",
     "output_type": "stream",
     "text": [
      "<class 'pandas.core.frame.DataFrame'>\n",
      "Int64Index: 195305 entries, 0 to 256983\n",
      "Data columns (total 19 columns):\n",
      " #   Column                        Non-Null Count   Dtype  \n",
      "---  ------                        --------------   -----  \n",
      " 0   Loan ID                       195305 non-null  object \n",
      " 1   Customer ID                   195305 non-null  object \n",
      " 2   Loan Status                   195305 non-null  object \n",
      " 3   Current Loan Amount           195305 non-null  int64  \n",
      " 4   Term                          195305 non-null  object \n",
      " 5   Credit Score                  195305 non-null  int64  \n",
      " 6   Years in current job          186509 non-null  object \n",
      " 7   Home Ownership                195305 non-null  object \n",
      " 8   Annual Income                 195305 non-null  float64\n",
      " 9   Purpose                       195305 non-null  object \n",
      " 10  Monthly Debt                  195305 non-null  float64\n",
      " 11  Years of Credit History       195305 non-null  float64\n",
      " 12  Months since last delinquent  88465 non-null   float64\n",
      " 13  Number of Open Accounts       195305 non-null  int64  \n",
      " 14  Number of Credit Problems     195305 non-null  int64  \n",
      " 15  Current Credit Balance        195305 non-null  int64  \n",
      " 16  Maximum Open Credit           195305 non-null  int64  \n",
      " 17  Bankruptcies                  194892 non-null  float64\n",
      " 18  Tax Liens                     195290 non-null  float64\n",
      "dtypes: float64(6), int64(6), object(7)\n",
      "memory usage: 29.8+ MB\n"
     ]
    }
   ],
   "source": [
    "df.info()"
   ]
  },
  {
   "cell_type": "code",
   "execution_count": 31,
   "metadata": {},
   "outputs": [
    {
     "data": {
      "text/plain": [
       "Loan ID                              0\n",
       "Customer ID                          0\n",
       "Loan Status                          0\n",
       "Current Loan Amount                  0\n",
       "Term                                 0\n",
       "Credit Score                         0\n",
       "Years in current job              8796\n",
       "Home Ownership                       0\n",
       "Annual Income                        0\n",
       "Purpose                              0\n",
       "Monthly Debt                         0\n",
       "Years of Credit History              0\n",
       "Months since last delinquent    106840\n",
       "Number of Open Accounts              0\n",
       "Number of Credit Problems            0\n",
       "Current Credit Balance               0\n",
       "Maximum Open Credit                  0\n",
       "Bankruptcies                       413\n",
       "Tax Liens                           15\n",
       "dtype: int64"
      ]
     },
     "execution_count": 31,
     "metadata": {},
     "output_type": "execute_result"
    }
   ],
   "source": [
    "df.isnull().sum()"
   ]
  },
  {
   "cell_type": "markdown",
   "metadata": {},
   "source": [
    "I will examine missing values in **Months since last delinquent**, Years in current job, Bankrupt, Tax Liens."
   ]
  },
  {
   "cell_type": "code",
   "execution_count": 32,
   "metadata": {},
   "outputs": [],
   "source": [
    "df2 = df[df['Months since last delinquent'].notnull()]\n",
    "x = df2['Months since last delinquent']\n",
    "y = df2['Loan Status'].map(lambda x: 1 if x == 'Fully Paid' else 0)"
   ]
  },
  {
   "cell_type": "code",
   "execution_count": 33,
   "metadata": {},
   "outputs": [
    {
     "data": {
      "image/png": "[encoded data removed]",
      "text/plain": [
       "<Figure size 432x288 with 1 Axes>"
      ]
     },
     "metadata": {
      "needs_background": "light"
     },
     "output_type": "display_data"
    }
   ],
   "source": [
    "fig = plt.figure()\n",
    "ax = fig.add_subplot(111)\n",
    "ax.scatter(x, y)\n",
    "ax.set_ylabel('Loan Status')\n",
    "ax.set_xlabel('Months since last delinquent');"
   ]
  },
  {
   "cell_type": "markdown",
   "metadata": {},
   "source": [
    "According to the plot, there is not much difference between these two columns and there isn't noticable correlation. And since Months since last delinquent has so many missing values and wouldn't contribute much to our prediction model; I will drop that column."
   ]
  },
  {
   "cell_type": "code",
   "execution_count": 34,
   "metadata": {},
   "outputs": [],
   "source": [
    "df = df.drop(['Months since last delinquent'], axis=1)"
   ]
  },
  {
   "cell_type": "code",
   "execution_count": 35,
   "metadata": {},
   "outputs": [
    {
     "data": {
      "text/plain": [
       "Fully Paid     293\n",
       "Charged Off    120\n",
       "Name: Loan Status, dtype: int64"
      ]
     },
     "execution_count": 35,
     "metadata": {},
     "output_type": "execute_result"
    }
   ],
   "source": [
    "df[df['Bankruptcies'].isnull()]['Loan Status'].value_counts()"
   ]
  },
  {
   "cell_type": "code",
   "execution_count": 36,
   "metadata": {},
   "outputs": [],
   "source": [
    "df2 = df[df['Bankruptcies'].notnull()]\n",
    "x = df2['Bankruptcies']\n",
    "y = df2['Loan Status'].map(lambda x: 1 if x == 'Fully Paid' else 0)"
   ]
  },
  {
   "cell_type": "code",
   "execution_count": 37,
   "metadata": {},
   "outputs": [
    {
     "data": {
      "image/png": "[encoded data removed]",
      "text/plain": [
       "<Figure size 432x288 with 1 Axes>"
      ]
     },
     "metadata": {
      "needs_background": "light"
     },
     "output_type": "display_data"
    }
   ],
   "source": [
    "fig = plt.figure()\n",
    "ax = fig.add_subplot(111)\n",
    "ax.scatter(x, y)\n",
    "ax.set_ylabel('Loan Status')\n",
    "ax.set_xlabel('Bankruptcies');"
   ]
  },
  {
   "cell_type": "markdown",
   "metadata": {},
   "source": [
    "Bankruptcies, don't have noticable correlation. And there isn't too much data missing so i will drop it."
   ]
  },
  {
   "cell_type": "code",
   "execution_count": 38,
   "metadata": {},
   "outputs": [],
   "source": [
    "df = df[df['Bankruptcies'].notnull()]"
   ]
  },
  {
   "cell_type": "code",
   "execution_count": 39,
   "metadata": {},
   "outputs": [
    {
     "data": {
      "text/plain": [
       "Series([], Name: Loan Status, dtype: int64)"
      ]
     },
     "execution_count": 39,
     "metadata": {},
     "output_type": "execute_result"
    }
   ],
   "source": [
    "df[df['Tax Liens'].isnull()]['Loan Status'].value_counts()"
   ]
  },
  {
   "cell_type": "code",
   "execution_count": 40,
   "metadata": {},
   "outputs": [],
   "source": [
    "df2 = df[df['Tax Liens'].notnull()]\n",
    "x = df2['Tax Liens']\n",
    "y = df2['Loan Status'].map(lambda x: 1 if x == 'Fully Paid' else 0)"
   ]
  },
  {
   "cell_type": "code",
   "execution_count": 41,
   "metadata": {},
   "outputs": [
    {
     "data": {
      "image/png": "[encoded data removed]",
      "text/plain": [
       "<Figure size 432x288 with 1 Axes>"
      ]
     },
     "metadata": {
      "needs_background": "light"
     },
     "output_type": "display_data"
    }
   ],
   "source": [
    "fig = plt.figure()\n",
    "ax = fig.add_subplot(111)  \n",
    "ax.scatter(x, y)\n",
    "ax.set_ylabel('Loan Status')  \n",
    "ax.set_xlabel('Tax Liens');"
   ]
  },
  {
   "cell_type": "markdown",
   "metadata": {},
   "source": [
    "Tax Liens, don't have noticable correlation. And there isn't too much data missing so i will drop it."
   ]
  },
  {
   "cell_type": "code",
   "execution_count": 42,
   "metadata": {},
   "outputs": [],
   "source": [
    "df = df[df['Tax Liens'].notnull()] "
   ]
  },
  {
   "cell_type": "code",
   "execution_count": 43,
   "metadata": {},
   "outputs": [
    {
     "data": {
      "text/plain": [
       "Fully Paid     5115\n",
       "Charged Off    3681\n",
       "Name: Loan Status, dtype: int64"
      ]
     },
     "execution_count": 43,
     "metadata": {},
     "output_type": "execute_result"
    }
   ],
   "source": [
    "df[df['Years in current job'].isnull()]['Loan Status'].value_counts()"
   ]
  },
  {
   "cell_type": "code",
   "execution_count": 44,
   "metadata": {},
   "outputs": [],
   "source": [
    "df2 = df[df['Years in current job'].notnull()]\n",
    "x = df2['Years in current job']\n",
    "y = df2['Loan Status'].map(lambda x: 1 if x == 'Fully Paid' else 0)"
   ]
  },
  {
   "cell_type": "code",
   "execution_count": 45,
   "metadata": {},
   "outputs": [
    {
     "data": {
      "image/png": "[encoded data removed]",
      "text/plain": [
       "<Figure size 1080x720 with 1 Axes>"
      ]
     },
     "metadata": {
      "needs_background": "light"
     },
     "output_type": "display_data"
    }
   ],
   "source": [
    "fig = plt.figure(figsize=(15, 10))\n",
    "ax = fig.add_subplot(111)  \n",
    "ax.scatter(x, y)\n",
    "ax.set_ylabel('Loan Status')  \n",
    "ax.set_xlabel('Years in current job');"
   ]
  },
  {
   "cell_type": "markdown",
   "metadata": {},
   "source": [
    "Years in current job, don't have noticable correlation, so i will drop it."
   ]
  },
  {
   "cell_type": "code",
   "execution_count": 46,
   "metadata": {},
   "outputs": [],
   "source": [
    "df = df[df['Years in current job'].notnull()] "
   ]
  },
  {
   "cell_type": "code",
   "execution_count": 47,
   "metadata": {},
   "outputs": [
    {
     "name": "stdout",
     "output_type": "stream",
     "text": [
      "<class 'pandas.core.frame.DataFrame'>\n",
      "Int64Index: 186096 entries, 0 to 256983\n",
      "Data columns (total 18 columns):\n",
      " #   Column                     Non-Null Count   Dtype  \n",
      "---  ------                     --------------   -----  \n",
      " 0   Loan ID                    186096 non-null  object \n",
      " 1   Customer ID                186096 non-null  object \n",
      " 2   Loan Status                186096 non-null  object \n",
      " 3   Current Loan Amount        186096 non-null  int64  \n",
      " 4   Term                       186096 non-null  object \n",
      " 5   Credit Score               186096 non-null  int64  \n",
      " 6   Years in current job       186096 non-null  object \n",
      " 7   Home Ownership             186096 non-null  object \n",
      " 8   Annual Income              186096 non-null  float64\n",
      " 9   Purpose                    186096 non-null  object \n",
      " 10  Monthly Debt               186096 non-null  float64\n",
      " 11  Years of Credit History    186096 non-null  float64\n",
      " 12  Number of Open Accounts    186096 non-null  int64  \n",
      " 13  Number of Credit Problems  186096 non-null  int64  \n",
      " 14  Current Credit Balance     186096 non-null  int64  \n",
      " 15  Maximum Open Credit        186096 non-null  int64  \n",
      " 16  Bankruptcies               186096 non-null  float64\n",
      " 17  Tax Liens                  186096 non-null  float64\n",
      "dtypes: float64(5), int64(6), object(7)\n",
      "memory usage: 27.0+ MB\n"
     ]
    }
   ],
   "source": [
    "df.info()"
   ]
  },
  {
   "cell_type": "code",
   "execution_count": 48,
   "metadata": {},
   "outputs": [
    {
     "data": {
      "text/plain": [
       "Loan ID                      0\n",
       "Customer ID                  0\n",
       "Loan Status                  0\n",
       "Current Loan Amount          0\n",
       "Term                         0\n",
       "Credit Score                 0\n",
       "Years in current job         0\n",
       "Home Ownership               0\n",
       "Annual Income                0\n",
       "Purpose                      0\n",
       "Monthly Debt                 0\n",
       "Years of Credit History      0\n",
       "Number of Open Accounts      0\n",
       "Number of Credit Problems    0\n",
       "Current Credit Balance       0\n",
       "Maximum Open Credit          0\n",
       "Bankruptcies                 0\n",
       "Tax Liens                    0\n",
       "dtype: int64"
      ]
     },
     "execution_count": 48,
     "metadata": {},
     "output_type": "execute_result"
    }
   ],
   "source": [
    "df.isnull().sum()"
   ]
  },
  {
   "cell_type": "raw",
   "metadata": {},
   "source": [
    "There isn't any missing data left:)"
   ]
  },
  {
   "cell_type": "markdown",
   "metadata": {},
   "source": [
    "#### Duplicate Data"
   ]
  },
  {
   "cell_type": "code",
   "execution_count": 49,
   "metadata": {},
   "outputs": [
    {
     "data": {
      "text/plain": [
       "163512"
      ]
     },
     "execution_count": 49,
     "metadata": {},
     "output_type": "execute_result"
    }
   ],
   "source": [
    "df['Loan ID'].nunique()"
   ]
  },
  {
   "cell_type": "code",
   "execution_count": 50,
   "metadata": {},
   "outputs": [
    {
     "data": {
      "text/plain": [
       "163512"
      ]
     },
     "execution_count": 50,
     "metadata": {},
     "output_type": "execute_result"
    }
   ],
   "source": [
    "df['Customer ID'].nunique()"
   ]
  },
  {
   "cell_type": "code",
   "execution_count": 51,
   "metadata": {},
   "outputs": [
    {
     "data": {
      "text/plain": [
       "186096"
      ]
     },
     "execution_count": 51,
     "metadata": {},
     "output_type": "execute_result"
    }
   ],
   "source": [
    "len(df)"
   ]
  },
  {
   "cell_type": "markdown",
   "metadata": {},
   "source": [
    "There is 186096 rows.<br>\n",
    "Only 163512 of them are unique.<br>\n",
    "So there are duplicate values."
   ]
  },
  {
   "cell_type": "code",
   "execution_count": 52,
   "metadata": {},
   "outputs": [
    {
     "data": {
      "text/plain": [
       "6e665b6e-87c2-4f2c-9449-ab0cbe45c83e    4\n",
       "f32674e6-8252-44b2-9b3e-73f6d0ea3bd5    4\n",
       "abe718dd-01ae-4bf8-ba80-566a50679e95    4\n",
       "ee54cde9-de2d-442f-b098-e43c82c3910f    4\n",
       "91037789-b0a2-4d49-89dc-78c27b5e5297    4\n",
       "                                       ..\n",
       "ef151278-f43a-42c0-a0a6-75ee7c92c574    1\n",
       "457a288f-e520-419f-80dd-851743ed76b6    1\n",
       "988dae86-3bce-46b0-bc95-589f79331646    1\n",
       "3e2a1bdd-48eb-49c8-bdf0-c172ecc6084d    1\n",
       "a613ddbe-30a5-4270-a9fd-90940e37fe4e    1\n",
       "Name: Loan ID, Length: 163512, dtype: int64"
      ]
     },
     "execution_count": 52,
     "metadata": {},
     "output_type": "execute_result"
    }
   ],
   "source": [
    "df['Loan ID'].value_counts()"
   ]
  },
  {
   "cell_type": "code",
   "execution_count": 53,
   "metadata": {},
   "outputs": [],
   "source": [
    "df = df.drop_duplicates(['Loan ID'])"
   ]
  },
  {
   "cell_type": "code",
   "execution_count": 54,
   "metadata": {},
   "outputs": [
    {
     "data": {
      "text/plain": [
       "163512"
      ]
     },
     "execution_count": 54,
     "metadata": {},
     "output_type": "execute_result"
    }
   ],
   "source": [
    "df['Loan ID'].nunique()"
   ]
  },
  {
   "cell_type": "code",
   "execution_count": 55,
   "metadata": {},
   "outputs": [
    {
     "data": {
      "text/plain": [
       "163512"
      ]
     },
     "execution_count": 55,
     "metadata": {},
     "output_type": "execute_result"
    }
   ],
   "source": [
    "df['Customer ID'].nunique()"
   ]
  },
  {
   "cell_type": "code",
   "execution_count": 56,
   "metadata": {},
   "outputs": [
    {
     "data": {
      "text/plain": [
       "163512"
      ]
     },
     "execution_count": 56,
     "metadata": {},
     "output_type": "execute_result"
    }
   ],
   "source": [
    "len(df)"
   ]
  },
  {
   "cell_type": "markdown",
   "metadata": {},
   "source": [
    "No duplicates left:)"
   ]
  },
  {
   "cell_type": "markdown",
   "metadata": {},
   "source": [
    "#### Categorical -> Numeric"
   ]
  },
  {
   "cell_type": "code",
   "execution_count": 57,
   "metadata": {},
   "outputs": [
    {
     "name": "stdout",
     "output_type": "stream",
     "text": [
      "<class 'pandas.core.frame.DataFrame'>\n",
      "Int64Index: 163512 entries, 0 to 256983\n",
      "Data columns (total 18 columns):\n",
      " #   Column                     Non-Null Count   Dtype  \n",
      "---  ------                     --------------   -----  \n",
      " 0   Loan ID                    163512 non-null  object \n",
      " 1   Customer ID                163512 non-null  object \n",
      " 2   Loan Status                163512 non-null  object \n",
      " 3   Current Loan Amount        163512 non-null  int64  \n",
      " 4   Term                       163512 non-null  object \n",
      " 5   Credit Score               163512 non-null  int64  \n",
      " 6   Years in current job       163512 non-null  object \n",
      " 7   Home Ownership             163512 non-null  object \n",
      " 8   Annual Income              163512 non-null  float64\n",
      " 9   Purpose                    163512 non-null  object \n",
      " 10  Monthly Debt               163512 non-null  float64\n",
      " 11  Years of Credit History    163512 non-null  float64\n",
      " 12  Number of Open Accounts    163512 non-null  int64  \n",
      " 13  Number of Credit Problems  163512 non-null  int64  \n",
      " 14  Current Credit Balance     163512 non-null  int64  \n",
      " 15  Maximum Open Credit        163512 non-null  int64  \n",
      " 16  Bankruptcies               163512 non-null  float64\n",
      " 17  Tax Liens                  163512 non-null  float64\n",
      "dtypes: float64(5), int64(6), object(7)\n",
      "memory usage: 23.7+ MB\n"
     ]
    }
   ],
   "source": [
    "df.info()"
   ]
  },
  {
   "cell_type": "markdown",
   "metadata": {},
   "source": [
    "Years in current job is an ordinal variable, which means that its categorical value can be treated as numeric since it affects the chance of loan grants due to career stability of the customer."
   ]
  },
  {
   "cell_type": "code",
   "execution_count": 58,
   "metadata": {},
   "outputs": [
    {
     "data": {
      "text/plain": [
       "array(['10+ years', '4 years', '6 years', '3 years', '2 years',\n",
       "       '< 1 year', '5 years', '1 year', '7 years', '9 years', '8 years'],\n",
       "      dtype=object)"
      ]
     },
     "execution_count": 58,
     "metadata": {},
     "output_type": "execute_result"
    }
   ],
   "source": [
    "df['Years in current job'].unique()"
   ]
  },
  {
   "cell_type": "code",
   "execution_count": 59,
   "metadata": {},
   "outputs": [],
   "source": [
    "df['Years in current job'] = df['Years in current job'].map(lambda x: '0' if x == '< 1 year' else x)\n",
    "df['Years in current job'] = df['Years in current job'].replace( '[\\+ years]','', regex=True).astype(np.int64)"
   ]
  },
  {
   "cell_type": "code",
   "execution_count": 60,
   "metadata": {},
   "outputs": [
    {
     "data": {
      "text/plain": [
       "array([10,  4,  6,  3,  2,  0,  5,  1,  7,  9,  8], dtype=int64)"
      ]
     },
     "execution_count": 60,
     "metadata": {},
     "output_type": "execute_result"
    }
   ],
   "source": [
    "df['Years in current job'].unique()"
   ]
  },
  {
   "cell_type": "code",
   "execution_count": 61,
   "metadata": {},
   "outputs": [
    {
     "data": {
      "text/html": [
       "<div>\n",
       "<style scoped>\n",
       "    .dataframe tbody tr th:only-of-type {\n",
       "        vertical-align: middle;\n",
       "    }\n",
       "\n",
       "    .dataframe tbody tr th {\n",
       "        vertical-align: top;\n",
       "    }\n",
       "\n",
       "    .dataframe thead th {\n",
       "        text-align: right;\n",
       "    }\n",
       "</style>\n",
       "<table border=\"1\" class=\"dataframe\">\n",
       "  <thead>\n",
       "    <tr style=\"text-align: right;\">\n",
       "      <th></th>\n",
       "      <th>Loan ID</th>\n",
       "      <th>Customer ID</th>\n",
       "      <th>Loan Status</th>\n",
       "      <th>Current Loan Amount</th>\n",
       "      <th>Term</th>\n",
       "      <th>Credit Score</th>\n",
       "      <th>Years in current job</th>\n",
       "      <th>Home Ownership</th>\n",
       "      <th>Annual Income</th>\n",
       "      <th>Purpose</th>\n",
       "      <th>Monthly Debt</th>\n",
       "      <th>Years of Credit History</th>\n",
       "      <th>Number of Open Accounts</th>\n",
       "      <th>Number of Credit Problems</th>\n",
       "      <th>Current Credit Balance</th>\n",
       "      <th>Maximum Open Credit</th>\n",
       "      <th>Bankruptcies</th>\n",
       "      <th>Tax Liens</th>\n",
       "    </tr>\n",
       "  </thead>\n",
       "  <tbody>\n",
       "    <tr>\n",
       "      <th>10</th>\n",
       "      <td>00020fb0-6b8a-4b3a-8c72-9c4c847e8cb6</td>\n",
       "      <td>c9decd06-16f7-44c3-b007-8776f2a9233d</td>\n",
       "      <td>Fully Paid</td>\n",
       "      <td>99999999</td>\n",
       "      <td>Short Term</td>\n",
       "      <td>742</td>\n",
       "      <td>3</td>\n",
       "      <td>Home Mortgage</td>\n",
       "      <td>64760.0</td>\n",
       "      <td>Debt Consolidation</td>\n",
       "      <td>582.84</td>\n",
       "      <td>26.8</td>\n",
       "      <td>11</td>\n",
       "      <td>0</td>\n",
       "      <td>8880</td>\n",
       "      <td>22711</td>\n",
       "      <td>0.0</td>\n",
       "      <td>0.0</td>\n",
       "    </tr>\n",
       "    <tr>\n",
       "      <th>16</th>\n",
       "      <td>0002c691-5314-44ab-b205-3fb1cc4ee6b2</td>\n",
       "      <td>41207d1e-5d13-43ec-9fe9-f222b4da5e0c</td>\n",
       "      <td>Fully Paid</td>\n",
       "      <td>99999999</td>\n",
       "      <td>Short Term</td>\n",
       "      <td>744</td>\n",
       "      <td>6</td>\n",
       "      <td>Home Mortgage</td>\n",
       "      <td>65605.0</td>\n",
       "      <td>Debt Consolidation</td>\n",
       "      <td>984.07</td>\n",
       "      <td>21.0</td>\n",
       "      <td>5</td>\n",
       "      <td>1</td>\n",
       "      <td>11514</td>\n",
       "      <td>17262</td>\n",
       "      <td>1.0</td>\n",
       "      <td>0.0</td>\n",
       "    </tr>\n",
       "    <tr>\n",
       "      <th>23</th>\n",
       "      <td>0003fbfd-33ee-4ae9-8074-b46f6ff59281</td>\n",
       "      <td>c14bbc84-5041-4e70-bd64-3db51f7e80ae</td>\n",
       "      <td>Fully Paid</td>\n",
       "      <td>99999999</td>\n",
       "      <td>Short Term</td>\n",
       "      <td>745</td>\n",
       "      <td>10</td>\n",
       "      <td>Rent</td>\n",
       "      <td>39476.0</td>\n",
       "      <td>Other</td>\n",
       "      <td>483.58</td>\n",
       "      <td>15.4</td>\n",
       "      <td>12</td>\n",
       "      <td>0</td>\n",
       "      <td>4636</td>\n",
       "      <td>21171</td>\n",
       "      <td>0.0</td>\n",
       "      <td>0.0</td>\n",
       "    </tr>\n",
       "    <tr>\n",
       "      <th>28</th>\n",
       "      <td>0004f37b-5859-40f6-98d0-367aa3b3f3f1</td>\n",
       "      <td>f662b062-5fa5-463d-b5c0-4e36d09fcab1</td>\n",
       "      <td>Fully Paid</td>\n",
       "      <td>99999999</td>\n",
       "      <td>Short Term</td>\n",
       "      <td>724</td>\n",
       "      <td>1</td>\n",
       "      <td>Own Home</td>\n",
       "      <td>34297.0</td>\n",
       "      <td>Home Improvements</td>\n",
       "      <td>777.38</td>\n",
       "      <td>13.6</td>\n",
       "      <td>12</td>\n",
       "      <td>0</td>\n",
       "      <td>6720</td>\n",
       "      <td>53335</td>\n",
       "      <td>0.0</td>\n",
       "      <td>0.0</td>\n",
       "    </tr>\n",
       "    <tr>\n",
       "      <th>42</th>\n",
       "      <td>0008cacc-1ea9-4599-b114-12709b13c85d</td>\n",
       "      <td>cd853967-4535-4d36-bf93-269504c74911</td>\n",
       "      <td>Fully Paid</td>\n",
       "      <td>99999999</td>\n",
       "      <td>Short Term</td>\n",
       "      <td>750</td>\n",
       "      <td>10</td>\n",
       "      <td>Own Home</td>\n",
       "      <td>86785.0</td>\n",
       "      <td>Other</td>\n",
       "      <td>56.41</td>\n",
       "      <td>22.0</td>\n",
       "      <td>7</td>\n",
       "      <td>0</td>\n",
       "      <td>3959</td>\n",
       "      <td>63862</td>\n",
       "      <td>0.0</td>\n",
       "      <td>0.0</td>\n",
       "    </tr>\n",
       "  </tbody>\n",
       "</table>\n",
       "</div>"
      ],
      "text/plain": [
       "                                 Loan ID  \\\n",
       "10  00020fb0-6b8a-4b3a-8c72-9c4c847e8cb6   \n",
       "16  0002c691-5314-44ab-b205-3fb1cc4ee6b2   \n",
       "23  0003fbfd-33ee-4ae9-8074-b46f6ff59281   \n",
       "28  0004f37b-5859-40f6-98d0-367aa3b3f3f1   \n",
       "42  0008cacc-1ea9-4599-b114-12709b13c85d   \n",
       "\n",
       "                             Customer ID Loan Status  Current Loan Amount  \\\n",
       "10  c9decd06-16f7-44c3-b007-8776f2a9233d  Fully Paid             99999999   \n",
       "16  41207d1e-5d13-43ec-9fe9-f222b4da5e0c  Fully Paid             99999999   \n",
       "23  c14bbc84-5041-4e70-bd64-3db51f7e80ae  Fully Paid             99999999   \n",
       "28  f662b062-5fa5-463d-b5c0-4e36d09fcab1  Fully Paid             99999999   \n",
       "42  cd853967-4535-4d36-bf93-269504c74911  Fully Paid             99999999   \n",
       "\n",
       "          Term  Credit Score  Years in current job Home Ownership  \\\n",
       "10  Short Term           742                     3  Home Mortgage   \n",
       "16  Short Term           744                     6  Home Mortgage   \n",
       "23  Short Term           745                    10           Rent   \n",
       "28  Short Term           724                     1       Own Home   \n",
       "42  Short Term           750                    10       Own Home   \n",
       "\n",
       "    Annual Income             Purpose  Monthly Debt  Years of Credit History  \\\n",
       "10        64760.0  Debt Consolidation        582.84                     26.8   \n",
       "16        65605.0  Debt Consolidation        984.07                     21.0   \n",
       "23        39476.0               Other        483.58                     15.4   \n",
       "28        34297.0   Home Improvements        777.38                     13.6   \n",
       "42        86785.0               Other         56.41                     22.0   \n",
       "\n",
       "    Number of Open Accounts  Number of Credit Problems  \\\n",
       "10                       11                          0   \n",
       "16                        5                          1   \n",
       "23                       12                          0   \n",
       "28                       12                          0   \n",
       "42                        7                          0   \n",
       "\n",
       "    Current Credit Balance  Maximum Open Credit  Bankruptcies  Tax Liens  \n",
       "10                    8880                22711           0.0        0.0  \n",
       "16                   11514                17262           1.0        0.0  \n",
       "23                    4636                21171           0.0        0.0  \n",
       "28                    6720                53335           0.0        0.0  \n",
       "42                    3959                63862           0.0        0.0  "
      ]
     },
     "execution_count": 61,
     "metadata": {},
     "output_type": "execute_result"
    }
   ],
   "source": [
    "df[(df['Current Loan Amount'] > 100000)].head()"
   ]
  },
  {
   "cell_type": "markdown",
   "metadata": {},
   "source": [
    "Annual Income and Current Loan Amount doesn't make sense. So I will drop them."
   ]
  },
  {
   "cell_type": "code",
   "execution_count": 62,
   "metadata": {},
   "outputs": [],
   "source": [
    "df = df[df['Current Loan Amount'] < 99999999]"
   ]
  },
  {
   "cell_type": "code",
   "execution_count": 63,
   "metadata": {},
   "outputs": [
    {
     "data": {
      "text/html": [
       "<div>\n",
       "<style scoped>\n",
       "    .dataframe tbody tr th:only-of-type {\n",
       "        vertical-align: middle;\n",
       "    }\n",
       "\n",
       "    .dataframe tbody tr th {\n",
       "        vertical-align: top;\n",
       "    }\n",
       "\n",
       "    .dataframe thead th {\n",
       "        text-align: right;\n",
       "    }\n",
       "</style>\n",
       "<table border=\"1\" class=\"dataframe\">\n",
       "  <thead>\n",
       "    <tr style=\"text-align: right;\">\n",
       "      <th></th>\n",
       "      <th>Loan ID</th>\n",
       "      <th>Customer ID</th>\n",
       "      <th>Loan Status</th>\n",
       "      <th>Current Loan Amount</th>\n",
       "      <th>Term</th>\n",
       "      <th>Credit Score</th>\n",
       "      <th>Years in current job</th>\n",
       "      <th>Home Ownership</th>\n",
       "      <th>Annual Income</th>\n",
       "      <th>Purpose</th>\n",
       "      <th>Monthly Debt</th>\n",
       "      <th>Years of Credit History</th>\n",
       "      <th>Number of Open Accounts</th>\n",
       "      <th>Number of Credit Problems</th>\n",
       "      <th>Current Credit Balance</th>\n",
       "      <th>Maximum Open Credit</th>\n",
       "      <th>Bankruptcies</th>\n",
       "      <th>Tax Liens</th>\n",
       "    </tr>\n",
       "  </thead>\n",
       "  <tbody>\n",
       "  </tbody>\n",
       "</table>\n",
       "</div>"
      ],
      "text/plain": [
       "Empty DataFrame\n",
       "Columns: [Loan ID, Customer ID, Loan Status, Current Loan Amount, Term, Credit Score, Years in current job, Home Ownership, Annual Income, Purpose, Monthly Debt, Years of Credit History, Number of Open Accounts, Number of Credit Problems, Current Credit Balance, Maximum Open Credit, Bankruptcies, Tax Liens]\n",
       "Index: []"
      ]
     },
     "execution_count": 63,
     "metadata": {},
     "output_type": "execute_result"
    }
   ],
   "source": [
    "df[(df['Current Loan Amount'] > 100000)].head()"
   ]
  },
  {
   "cell_type": "markdown",
   "metadata": {},
   "source": [
    "#### Feature Engineering"
   ]
  },
  {
   "cell_type": "code",
   "execution_count": 64,
   "metadata": {},
   "outputs": [],
   "source": [
    "df['Credit Utilization'] = df['Current Credit Balance'].div(df['Maximum Open Credit'] + 1, axis='index')"
   ]
  },
  {
   "cell_type": "markdown",
   "metadata": {},
   "source": [
    "#### Categorical Data"
   ]
  },
  {
   "cell_type": "code",
   "execution_count": 65,
   "metadata": {},
   "outputs": [],
   "source": [
    "df['Loan Status'] = df['Loan Status'].map(lambda x: 1 if x == 'Fully Paid' else 0)"
   ]
  },
  {
   "cell_type": "code",
   "execution_count": 66,
   "metadata": {},
   "outputs": [
    {
     "name": "stdout",
     "output_type": "stream",
     "text": [
      "<class 'pandas.core.frame.DataFrame'>\n",
      "Int64Index: 129748 entries, 0 to 256983\n",
      "Data columns (total 19 columns):\n",
      " #   Column                     Non-Null Count   Dtype  \n",
      "---  ------                     --------------   -----  \n",
      " 0   Loan ID                    129748 non-null  object \n",
      " 1   Customer ID                129748 non-null  object \n",
      " 2   Loan Status                129748 non-null  int64  \n",
      " 3   Current Loan Amount        129748 non-null  int64  \n",
      " 4   Term                       129748 non-null  object \n",
      " 5   Credit Score               129748 non-null  int64  \n",
      " 6   Years in current job       129748 non-null  int64  \n",
      " 7   Home Ownership             129748 non-null  object \n",
      " 8   Annual Income              129748 non-null  float64\n",
      " 9   Purpose                    129748 non-null  object \n",
      " 10  Monthly Debt               129748 non-null  float64\n",
      " 11  Years of Credit History    129748 non-null  float64\n",
      " 12  Number of Open Accounts    129748 non-null  int64  \n",
      " 13  Number of Credit Problems  129748 non-null  int64  \n",
      " 14  Current Credit Balance     129748 non-null  int64  \n",
      " 15  Maximum Open Credit        129748 non-null  int64  \n",
      " 16  Bankruptcies               129748 non-null  float64\n",
      " 17  Tax Liens                  129748 non-null  float64\n",
      " 18  Credit Utilization         129748 non-null  float64\n",
      "dtypes: float64(6), int64(8), object(5)\n",
      "memory usage: 19.8+ MB\n"
     ]
    }
   ],
   "source": [
    "df.info()"
   ]
  },
  {
   "cell_type": "code",
   "execution_count": 67,
   "metadata": {},
   "outputs": [],
   "source": [
    "df.drop(['Loan ID', 'Customer ID'], axis=1, inplace=True)"
   ]
  },
  {
   "cell_type": "code",
   "execution_count": 68,
   "metadata": {},
   "outputs": [],
   "source": [
    "df = pd.get_dummies(df, drop_first=True)"
   ]
  },
  {
   "cell_type": "code",
   "execution_count": 69,
   "metadata": {},
   "outputs": [
    {
     "name": "stdout",
     "output_type": "stream",
     "text": [
      "<class 'pandas.core.frame.DataFrame'>\n",
      "Int64Index: 129748 entries, 0 to 256983\n",
      "Data columns (total 25 columns):\n",
      " #   Column                        Non-Null Count   Dtype  \n",
      "---  ------                        --------------   -----  \n",
      " 0   Loan Status                   129748 non-null  int64  \n",
      " 1   Current Loan Amount           129748 non-null  int64  \n",
      " 2   Credit Score                  129748 non-null  int64  \n",
      " 3   Years in current job          129748 non-null  int64  \n",
      " 4   Annual Income                 129748 non-null  float64\n",
      " 5   Monthly Debt                  129748 non-null  float64\n",
      " 6   Years of Credit History       129748 non-null  float64\n",
      " 7   Number of Open Accounts       129748 non-null  int64  \n",
      " 8   Number of Credit Problems     129748 non-null  int64  \n",
      " 9   Current Credit Balance        129748 non-null  int64  \n",
      " 10  Maximum Open Credit           129748 non-null  int64  \n",
      " 11  Bankruptcies                  129748 non-null  float64\n",
      " 12  Tax Liens                     129748 non-null  float64\n",
      " 13  Credit Utilization            129748 non-null  float64\n",
      " 14  Term_Short Term               129748 non-null  uint8  \n",
      " 15  Home Ownership_Own Home       129748 non-null  uint8  \n",
      " 16  Home Ownership_Rent           129748 non-null  uint8  \n",
      " 17  Purpose_Buy House             129748 non-null  uint8  \n",
      " 18  Purpose_Buy a Car             129748 non-null  uint8  \n",
      " 19  Purpose_Debt Consolidation    129748 non-null  uint8  \n",
      " 20  Purpose_Educational Expenses  129748 non-null  uint8  \n",
      " 21  Purpose_Home Improvements     129748 non-null  uint8  \n",
      " 22  Purpose_Medical Bills         129748 non-null  uint8  \n",
      " 23  Purpose_Other                 129748 non-null  uint8  \n",
      " 24  Purpose_Take a Trip           129748 non-null  uint8  \n",
      "dtypes: float64(6), int64(8), uint8(11)\n",
      "memory usage: 16.2 MB\n"
     ]
    }
   ],
   "source": [
    "df.info()"
   ]
  },
  {
   "cell_type": "code",
   "execution_count": 70,
   "metadata": {},
   "outputs": [
    {
     "data": {
      "text/html": [
       "<div>\n",
       "<style scoped>\n",
       "    .dataframe tbody tr th:only-of-type {\n",
       "        vertical-align: middle;\n",
       "    }\n",
       "\n",
       "    .dataframe tbody tr th {\n",
       "        vertical-align: top;\n",
       "    }\n",
       "\n",
       "    .dataframe thead th {\n",
       "        text-align: right;\n",
       "    }\n",
       "</style>\n",
       "<table border=\"1\" class=\"dataframe\">\n",
       "  <thead>\n",
       "    <tr style=\"text-align: right;\">\n",
       "      <th></th>\n",
       "      <th>Loan Status</th>\n",
       "      <th>Current Loan Amount</th>\n",
       "      <th>Credit Score</th>\n",
       "      <th>Years in current job</th>\n",
       "      <th>Annual Income</th>\n",
       "      <th>Monthly Debt</th>\n",
       "      <th>Years of Credit History</th>\n",
       "      <th>Number of Open Accounts</th>\n",
       "      <th>Number of Credit Problems</th>\n",
       "      <th>Current Credit Balance</th>\n",
       "      <th>...</th>\n",
       "      <th>Home Ownership_Own Home</th>\n",
       "      <th>Home Ownership_Rent</th>\n",
       "      <th>Purpose_Buy House</th>\n",
       "      <th>Purpose_Buy a Car</th>\n",
       "      <th>Purpose_Debt Consolidation</th>\n",
       "      <th>Purpose_Educational Expenses</th>\n",
       "      <th>Purpose_Home Improvements</th>\n",
       "      <th>Purpose_Medical Bills</th>\n",
       "      <th>Purpose_Other</th>\n",
       "      <th>Purpose_Take a Trip</th>\n",
       "    </tr>\n",
       "  </thead>\n",
       "  <tbody>\n",
       "    <tr>\n",
       "      <th>count</th>\n",
       "      <td>129748.000000</td>\n",
       "      <td>129748.000000</td>\n",
       "      <td>129748.000000</td>\n",
       "      <td>129748.000000</td>\n",
       "      <td>1.297480e+05</td>\n",
       "      <td>129748.000000</td>\n",
       "      <td>129748.000000</td>\n",
       "      <td>129748.000000</td>\n",
       "      <td>129748.000000</td>\n",
       "      <td>1.297480e+05</td>\n",
       "      <td>...</td>\n",
       "      <td>129748.000000</td>\n",
       "      <td>129748.000000</td>\n",
       "      <td>129748.000000</td>\n",
       "      <td>129748.000000</td>\n",
       "      <td>129748.000000</td>\n",
       "      <td>129748.000000</td>\n",
       "      <td>129748.000000</td>\n",
       "      <td>129748.000000</td>\n",
       "      <td>129748.000000</td>\n",
       "      <td>129748.000000</td>\n",
       "    </tr>\n",
       "    <tr>\n",
       "      <th>mean</th>\n",
       "      <td>0.730724</td>\n",
       "      <td>14020.185544</td>\n",
       "      <td>721.884445</td>\n",
       "      <td>5.868514</td>\n",
       "      <td>7.337514e+04</td>\n",
       "      <td>972.284594</td>\n",
       "      <td>18.064466</td>\n",
       "      <td>11.140272</td>\n",
       "      <td>0.151825</td>\n",
       "      <td>1.548060e+04</td>\n",
       "      <td>...</td>\n",
       "      <td>0.085874</td>\n",
       "      <td>0.424423</td>\n",
       "      <td>0.005842</td>\n",
       "      <td>0.013210</td>\n",
       "      <td>0.794309</td>\n",
       "      <td>0.000886</td>\n",
       "      <td>0.058313</td>\n",
       "      <td>0.010752</td>\n",
       "      <td>0.092456</td>\n",
       "      <td>0.006050</td>\n",
       "    </tr>\n",
       "    <tr>\n",
       "      <th>std</th>\n",
       "      <td>0.443585</td>\n",
       "      <td>8253.282479</td>\n",
       "      <td>27.398740</td>\n",
       "      <td>3.628715</td>\n",
       "      <td>5.696073e+04</td>\n",
       "      <td>634.760764</td>\n",
       "      <td>6.820855</td>\n",
       "      <td>4.971304</td>\n",
       "      <td>0.453858</td>\n",
       "      <td>1.920304e+04</td>\n",
       "      <td>...</td>\n",
       "      <td>0.280179</td>\n",
       "      <td>0.494257</td>\n",
       "      <td>0.076210</td>\n",
       "      <td>0.114174</td>\n",
       "      <td>0.404207</td>\n",
       "      <td>0.029758</td>\n",
       "      <td>0.234335</td>\n",
       "      <td>0.103131</td>\n",
       "      <td>0.289670</td>\n",
       "      <td>0.077548</td>\n",
       "    </tr>\n",
       "    <tr>\n",
       "      <th>min</th>\n",
       "      <td>0.000000</td>\n",
       "      <td>975.000000</td>\n",
       "      <td>585.000000</td>\n",
       "      <td>0.000000</td>\n",
       "      <td>4.033000e+03</td>\n",
       "      <td>0.000000</td>\n",
       "      <td>3.700000</td>\n",
       "      <td>0.000000</td>\n",
       "      <td>0.000000</td>\n",
       "      <td>0.000000e+00</td>\n",
       "      <td>...</td>\n",
       "      <td>0.000000</td>\n",
       "      <td>0.000000</td>\n",
       "      <td>0.000000</td>\n",
       "      <td>0.000000</td>\n",
       "      <td>0.000000</td>\n",
       "      <td>0.000000</td>\n",
       "      <td>0.000000</td>\n",
       "      <td>0.000000</td>\n",
       "      <td>0.000000</td>\n",
       "      <td>0.000000</td>\n",
       "    </tr>\n",
       "    <tr>\n",
       "      <th>25%</th>\n",
       "      <td>0.000000</td>\n",
       "      <td>7854.000000</td>\n",
       "      <td>711.000000</td>\n",
       "      <td>2.000000</td>\n",
       "      <td>4.525200e+04</td>\n",
       "      <td>541.057500</td>\n",
       "      <td>13.500000</td>\n",
       "      <td>8.000000</td>\n",
       "      <td>0.000000</td>\n",
       "      <td>6.024000e+03</td>\n",
       "      <td>...</td>\n",
       "      <td>0.000000</td>\n",
       "      <td>0.000000</td>\n",
       "      <td>0.000000</td>\n",
       "      <td>0.000000</td>\n",
       "      <td>1.000000</td>\n",
       "      <td>0.000000</td>\n",
       "      <td>0.000000</td>\n",
       "      <td>0.000000</td>\n",
       "      <td>0.000000</td>\n",
       "      <td>0.000000</td>\n",
       "    </tr>\n",
       "    <tr>\n",
       "      <th>50%</th>\n",
       "      <td>1.000000</td>\n",
       "      <td>12080.000000</td>\n",
       "      <td>731.000000</td>\n",
       "      <td>6.000000</td>\n",
       "      <td>6.286400e+04</td>\n",
       "      <td>853.170000</td>\n",
       "      <td>16.900000</td>\n",
       "      <td>10.000000</td>\n",
       "      <td>0.000000</td>\n",
       "      <td>1.117000e+04</td>\n",
       "      <td>...</td>\n",
       "      <td>0.000000</td>\n",
       "      <td>0.000000</td>\n",
       "      <td>0.000000</td>\n",
       "      <td>0.000000</td>\n",
       "      <td>1.000000</td>\n",
       "      <td>0.000000</td>\n",
       "      <td>0.000000</td>\n",
       "      <td>0.000000</td>\n",
       "      <td>0.000000</td>\n",
       "      <td>0.000000</td>\n",
       "    </tr>\n",
       "    <tr>\n",
       "      <th>75%</th>\n",
       "      <td>1.000000</td>\n",
       "      <td>19500.000000</td>\n",
       "      <td>741.000000</td>\n",
       "      <td>10.000000</td>\n",
       "      <td>8.827350e+04</td>\n",
       "      <td>1261.352500</td>\n",
       "      <td>21.500000</td>\n",
       "      <td>14.000000</td>\n",
       "      <td>0.000000</td>\n",
       "      <td>1.943225e+04</td>\n",
       "      <td>...</td>\n",
       "      <td>0.000000</td>\n",
       "      <td>1.000000</td>\n",
       "      <td>0.000000</td>\n",
       "      <td>0.000000</td>\n",
       "      <td>1.000000</td>\n",
       "      <td>0.000000</td>\n",
       "      <td>0.000000</td>\n",
       "      <td>0.000000</td>\n",
       "      <td>0.000000</td>\n",
       "      <td>0.000000</td>\n",
       "    </tr>\n",
       "    <tr>\n",
       "      <th>max</th>\n",
       "      <td>1.000000</td>\n",
       "      <td>39304.000000</td>\n",
       "      <td>751.000000</td>\n",
       "      <td>10.000000</td>\n",
       "      <td>8.713547e+06</td>\n",
       "      <td>22939.120000</td>\n",
       "      <td>70.500000</td>\n",
       "      <td>76.000000</td>\n",
       "      <td>10.000000</td>\n",
       "      <td>1.730472e+06</td>\n",
       "      <td>...</td>\n",
       "      <td>1.000000</td>\n",
       "      <td>1.000000</td>\n",
       "      <td>1.000000</td>\n",
       "      <td>1.000000</td>\n",
       "      <td>1.000000</td>\n",
       "      <td>1.000000</td>\n",
       "      <td>1.000000</td>\n",
       "      <td>1.000000</td>\n",
       "      <td>1.000000</td>\n",
       "      <td>1.000000</td>\n",
       "    </tr>\n",
       "  </tbody>\n",
       "</table>\n",
       "<p>8 rows × 25 columns</p>\n",
       "</div>"
      ],
      "text/plain": [
       "         Loan Status  Current Loan Amount   Credit Score  \\\n",
       "count  129748.000000        129748.000000  129748.000000   \n",
       "mean        0.730724         14020.185544     721.884445   \n",
       "std         0.443585          8253.282479      27.398740   \n",
       "min         0.000000           975.000000     585.000000   \n",
       "25%         0.000000          7854.000000     711.000000   \n",
       "50%         1.000000         12080.000000     731.000000   \n",
       "75%         1.000000         19500.000000     741.000000   \n",
       "max         1.000000         39304.000000     751.000000   \n",
       "\n",
       "       Years in current job  Annual Income   Monthly Debt  \\\n",
       "count         129748.000000   1.297480e+05  129748.000000   \n",
       "mean               5.868514   7.337514e+04     972.284594   \n",
       "std                3.628715   5.696073e+04     634.760764   \n",
       "min                0.000000   4.033000e+03       0.000000   \n",
       "25%                2.000000   4.525200e+04     541.057500   \n",
       "50%                6.000000   6.286400e+04     853.170000   \n",
       "75%               10.000000   8.827350e+04    1261.352500   \n",
       "max               10.000000   8.713547e+06   22939.120000   \n",
       "\n",
       "       Years of Credit History  Number of Open Accounts  \\\n",
       "count            129748.000000            129748.000000   \n",
       "mean                 18.064466                11.140272   \n",
       "std                   6.820855                 4.971304   \n",
       "min                   3.700000                 0.000000   \n",
       "25%                  13.500000                 8.000000   \n",
       "50%                  16.900000                10.000000   \n",
       "75%                  21.500000                14.000000   \n",
       "max                  70.500000                76.000000   \n",
       "\n",
       "       Number of Credit Problems  Current Credit Balance  ...  \\\n",
       "count              129748.000000            1.297480e+05  ...   \n",
       "mean                    0.151825            1.548060e+04  ...   \n",
       "std                     0.453858            1.920304e+04  ...   \n",
       "min                     0.000000            0.000000e+00  ...   \n",
       "25%                     0.000000            6.024000e+03  ...   \n",
       "50%                     0.000000            1.117000e+04  ...   \n",
       "75%                     0.000000            1.943225e+04  ...   \n",
       "max                    10.000000            1.730472e+06  ...   \n",
       "\n",
       "       Home Ownership_Own Home  Home Ownership_Rent  Purpose_Buy House  \\\n",
       "count            129748.000000        129748.000000      129748.000000   \n",
       "mean                  0.085874             0.424423           0.005842   \n",
       "std                   0.280179             0.494257           0.076210   \n",
       "min                   0.000000             0.000000           0.000000   \n",
       "25%                   0.000000             0.000000           0.000000   \n",
       "50%                   0.000000             0.000000           0.000000   \n",
       "75%                   0.000000             1.000000           0.000000   \n",
       "max                   1.000000             1.000000           1.000000   \n",
       "\n",
       "       Purpose_Buy a Car  Purpose_Debt Consolidation  \\\n",
       "count      129748.000000               129748.000000   \n",
       "mean            0.013210                    0.794309   \n",
       "std             0.114174                    0.404207   \n",
       "min             0.000000                    0.000000   \n",
       "25%             0.000000                    1.000000   \n",
       "50%             0.000000                    1.000000   \n",
       "75%             0.000000                    1.000000   \n",
       "max             1.000000                    1.000000   \n",
       "\n",
       "       Purpose_Educational Expenses  Purpose_Home Improvements  \\\n",
       "count                 129748.000000              129748.000000   \n",
       "mean                       0.000886                   0.058313   \n",
       "std                        0.029758                   0.234335   \n",
       "min                        0.000000                   0.000000   \n",
       "25%                        0.000000                   0.000000   \n",
       "50%                        0.000000                   0.000000   \n",
       "75%                        0.000000                   0.000000   \n",
       "max                        1.000000                   1.000000   \n",
       "\n",
       "       Purpose_Medical Bills  Purpose_Other  Purpose_Take a Trip  \n",
       "count          129748.000000  129748.000000        129748.000000  \n",
       "mean                0.010752       0.092456             0.006050  \n",
       "std                 0.103131       0.289670             0.077548  \n",
       "min                 0.000000       0.000000             0.000000  \n",
       "25%                 0.000000       0.000000             0.000000  \n",
       "50%                 0.000000       0.000000             0.000000  \n",
       "75%                 0.000000       0.000000             0.000000  \n",
       "max                 1.000000       1.000000             1.000000  \n",
       "\n",
       "[8 rows x 25 columns]"
      ]
     },
     "execution_count": 70,
     "metadata": {},
     "output_type": "execute_result"
    }
   ],
   "source": [
    "df.describe()"
   ]
  },
  {
   "cell_type": "markdown",
   "metadata": {},
   "source": [
    "#### Modelling"
   ]
  },
  {
   "cell_type": "code",
   "execution_count": 72,
   "metadata": {},
   "outputs": [],
   "source": [
    "X = df.drop(columns=['Loan Status'], axis=1)\n",
    "y = df['Loan Status']"
   ]
  },
  {
   "cell_type": "code",
   "execution_count": 73,
   "metadata": {},
   "outputs": [],
   "source": [
    "from sklearn.model_selection import train_test_split\n",
    "X_train, X_test, y_train, y_test = train_test_split(X, y, test_size=.1, random_state=42)"
   ]
  },
  {
   "cell_type": "markdown",
   "metadata": {},
   "source": [
    "### Regression"
   ]
  },
  {
   "cell_type": "code",
   "execution_count": 74,
   "metadata": {},
   "outputs": [],
   "source": [
    "from sklearn.ensemble import RandomForestClassifier\n",
    "r = RandomForestClassifier()\n",
    "r.fit(X_train, y_train)\n",
    "y_pred = r.predict(X_test)"
   ]
  },
  {
   "cell_type": "code",
   "execution_count": 75,
   "metadata": {},
   "outputs": [],
   "source": [
    "from sklearn.metrics import confusion_matrix, classification_report"
   ]
  },
  {
   "cell_type": "code",
   "execution_count": 76,
   "metadata": {},
   "outputs": [
    {
     "data": {
      "image/png": "[encoded data removed]",
      "text/plain": [
       "<Figure size 432x288 with 2 Axes>"
      ]
     },
     "metadata": {
      "needs_background": "light"
     },
     "output_type": "display_data"
    }
   ],
   "source": [
    "sns.heatmap(confusion_matrix(y_test, y_pred), cmap='viridis', annot=True);"
   ]
  },
  {
   "cell_type": "code",
   "execution_count": 77,
   "metadata": {},
   "outputs": [
    {
     "name": "stdout",
     "output_type": "stream",
     "text": [
      "              precision    recall  f1-score   support\n",
      "\n",
      "           0       0.54      0.18      0.27      3514\n",
      "           1       0.76      0.94      0.84      9461\n",
      "\n",
      "    accuracy                           0.74     12975\n",
      "   macro avg       0.65      0.56      0.56     12975\n",
      "weighted avg       0.70      0.74      0.69     12975\n",
      "\n"
     ]
    }
   ],
   "source": [
    "print(classification_report(y_test, y_pred))"
   ]
  },
  {
   "cell_type": "markdown",
   "metadata": {},
   "source": [
    "### Tree"
   ]
  },
  {
   "cell_type": "code",
   "execution_count": 78,
   "metadata": {},
   "outputs": [],
   "source": [
    "from sklearn.tree import DecisionTreeClassifier\n",
    "d = DecisionTreeClassifier()\n",
    "d.fit(X_train, y_train)\n",
    "y_pred = d.predict(X_test)"
   ]
  },
  {
   "cell_type": "code",
   "execution_count": 79,
   "metadata": {},
   "outputs": [
    {
     "data": {
      "image/png": "[encoded data removed]",
      "text/plain": [
       "<Figure size 432x288 with 2 Axes>"
      ]
     },
     "metadata": {
      "needs_background": "light"
     },
     "output_type": "display_data"
    }
   ],
   "source": [
    "sns.heatmap(confusion_matrix(y_test, y_pred), cmap='viridis', annot=True);"
   ]
  },
  {
   "cell_type": "code",
   "execution_count": 80,
   "metadata": {},
   "outputs": [
    {
     "name": "stdout",
     "output_type": "stream",
     "text": [
      "              precision    recall  f1-score   support\n",
      "\n",
      "           0       0.35      0.37      0.36      3514\n",
      "           1       0.76      0.74      0.75      9461\n",
      "\n",
      "    accuracy                           0.64     12975\n",
      "   macro avg       0.55      0.55      0.55     12975\n",
      "weighted avg       0.65      0.64      0.64     12975\n",
      "\n"
     ]
    }
   ],
   "source": [
    "print(classification_report(y_test, y_pred))"
   ]
  },
  {
   "cell_type": "markdown",
   "metadata": {},
   "source": [
    "### Distance"
   ]
  },
  {
   "cell_type": "code",
   "execution_count": 81,
   "metadata": {},
   "outputs": [],
   "source": [
    "from sklearn.neighbors import KNeighborsClassifier\n",
    "k = KNeighborsClassifier()\n",
    "k.fit(X_train, y_train)\n",
    "y_pred = k.predict(X_test)"
   ]
  },
  {
   "cell_type": "code",
   "execution_count": 82,
   "metadata": {},
   "outputs": [
    {
     "data": {
      "image/png": "[encoded data removed]",
      "text/plain": [
       "<Figure size 432x288 with 2 Axes>"
      ]
     },
     "metadata": {
      "needs_background": "light"
     },
     "output_type": "display_data"
    }
   ],
   "source": [
    "sns.heatmap(confusion_matrix(y_test, y_pred), cmap='viridis', annot=True);"
   ]
  },
  {
   "cell_type": "code",
   "execution_count": 83,
   "metadata": {},
   "outputs": [
    {
     "name": "stdout",
     "output_type": "stream",
     "text": [
      "              precision    recall  f1-score   support\n",
      "\n",
      "           0       0.34      0.19      0.24      3514\n",
      "           1       0.74      0.86      0.80      9461\n",
      "\n",
      "    accuracy                           0.68     12975\n",
      "   macro avg       0.54      0.53      0.52     12975\n",
      "weighted avg       0.63      0.68      0.65     12975\n",
      "\n"
     ]
    }
   ],
   "source": [
    "print(classification_report(y_test, y_pred))"
   ]
  },
  {
   "cell_type": "markdown",
   "metadata": {},
   "source": [
    "### Probablity"
   ]
  },
  {
   "cell_type": "code",
   "execution_count": 84,
   "metadata": {},
   "outputs": [],
   "source": [
    "from sklearn.linear_model import LogisticRegression\n",
    "l = LogisticRegression()\n",
    "regmodel = l.fit(X_train, y_train)\n",
    "y_pretest = l.predict(X_test)"
   ]
  },
  {
   "cell_type": "code",
   "execution_count": 85,
   "metadata": {},
   "outputs": [
    {
     "data": {
      "image/png": "[encoded data removed]",
      "text/plain": [
       "<Figure size 432x288 with 2 Axes>"
      ]
     },
     "metadata": {
      "needs_background": "light"
     },
     "output_type": "display_data"
    }
   ],
   "source": [
    "sns.heatmap(confusion_matrix(y_test, y_pred), cmap='viridis', annot=True);"
   ]
  },
  {
   "cell_type": "code",
   "execution_count": 86,
   "metadata": {},
   "outputs": [
    {
     "name": "stdout",
     "output_type": "stream",
     "text": [
      "              precision    recall  f1-score   support\n",
      "\n",
      "           0       0.34      0.19      0.24      3514\n",
      "           1       0.74      0.86      0.80      9461\n",
      "\n",
      "    accuracy                           0.68     12975\n",
      "   macro avg       0.54      0.53      0.52     12975\n",
      "weighted avg       0.63      0.68      0.65     12975\n",
      "\n"
     ]
    }
   ],
   "source": [
    "print(classification_report(y_test, y_pred))"
   ]
  },
  {
   "cell_type": "code",
   "execution_count": null,
   "metadata": {},
   "outputs": [],
   "source": []
  }
 ],
 "metadata": {
  "kernelspec": {
   "display_name": "Python 3",
   "language": "python",
   "name": "python3"
  },
  "language_info": {
   "codemirror_mode": {
    "name": "ipython",
    "version": 3
   },
   "file_extension": ".py",
   "mimetype": "text/x-python",
   "name": "python",
   "nbconvert_exporter": "python",
   "pygments_lexer": "ipython3",
   "version": "3.8.5"
  }
 },
 "nbformat": 4,
 "nbformat_minor": 4
}
